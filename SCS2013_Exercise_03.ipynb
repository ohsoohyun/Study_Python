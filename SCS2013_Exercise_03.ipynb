{
  "nbformat": 4,
  "nbformat_minor": 0,
  "metadata": {
    "colab": {
      "name": "SCS2013_Exercise_03.ipynb",
      "provenance": [],
      "collapsed_sections": [],
      "toc_visible": true,
      "include_colab_link": true
    },
    "kernelspec": {
      "name": "python3",
      "display_name": "Python 3"
    },
    "language_info": {
      "name": "python"
    }
  },
  "cells": [
    {
      "cell_type": "markdown",
      "metadata": {
        "id": "view-in-github",
        "colab_type": "text"
      },
      "source": [
        "<a href=\"https://colab.research.google.com/github/ohsoohyun/python_study/blob/main/SCS2013_Exercise_03.ipynb\" target=\"_parent\"><img src=\"https://colab.research.google.com/assets/colab-badge.svg\" alt=\"Open In Colab\"/></a>"
      ]
    },
    {
      "cell_type": "markdown",
      "metadata": {
        "id": "EzZiRhCEg1JC"
      },
      "source": [
        "# SCS2013 Exercise 03 (2022 Spring)\n",
        "\n",
        "**This exercise notebook will go through the \"Strings\" in Python:**\n",
        "\n",
        "* Create strings \n",
        "* String operators \n",
        "* String Formatting\n",
        "* String Indexing, Slicing, Striding\n",
        "* String methods \n",
        "\n"
      ]
    },
    {
      "cell_type": "markdown",
      "metadata": {
        "id": "SILcODfCinqu"
      },
      "source": [
        "## Create Strings \n",
        "\n",
        "* Python strings have powerful text-processing features. Strings are created by using **quotes** with texts in between. \n",
        "The quotes used can be either \n",
        "  - i) single **`' '`** 작은따옴표\n",
        "  - ii) double **`\" \"`** 큰따옴표\n",
        "  - iii) three single quotes **`'''  '''`** 작은따옴표 3개 연속\n",
        "  - iv) three double quotes **`\"\"\" \"\"\"`** 큰따옴표 3개 연속\n",
        "\n",
        "* Escape character (이스케이프 코드): backslash `\\` 뒤에 문자가 오는 조합\n",
        "  - `\\\\`: backslash\n",
        "  - `\\'`, `\\\"`: single quote, double quote\n",
        "  - `\\n`, `\\t`: new line, tab\n"
      ]
    },
    {
      "cell_type": "code",
      "metadata": {
        "id": "p5ma93O5P-RB",
        "colab": {
          "base_uri": "https://localhost:8080/"
        },
        "outputId": "00aa96e5-1541-4246-c534-27367f8e618b"
      },
      "source": [
        "print('Create string 1: SCS2013 Exercise 03')\n",
        "print(\"Create string 2: SCS2013 Exercise 03\")\n",
        "print('''Create string 3: SCS2013 Exercies 03''')\n",
        "print(\"\"\"Create string 4: SCS2013 Exercise 03\"\"\")\n",
        "\n",
        "print(type('This is String'))"
      ],
      "execution_count": 1,
      "outputs": [
        {
          "output_type": "stream",
          "name": "stdout",
          "text": [
            "Create string 1: SCS2013 Exercise 03\n",
            "Create string 2: SCS2013 Exercise 03\n",
            "Create string 3: SCS2013 Exercies 03\n",
            "Create string 4: SCS2013 Exercise 03\n",
            "<class 'str'>\n"
          ]
        }
      ]
    },
    {
      "cell_type": "markdown",
      "metadata": {
        "id": "aazAqWr9RBdZ"
      },
      "source": [
        "How to create a string \n",
        "A) `I'm good.` B) `\"Python is very easy.\" He says.` and C) `John's favorite food is Pizza.`\n",
        "\n",
        "How to create a string with multiple lines:\n",
        "\n",
        "`ABCDE`\n",
        "\n",
        "`FGH`\n",
        "\n",
        "`\"last\"`\n"
      ]
    },
    {
      "cell_type": "code",
      "metadata": {
        "id": "dSLDdt38Q8RZ",
        "colab": {
          "base_uri": "https://localhost:8080/",
          "height": 136
        },
        "outputId": "c6f7c210-089b-4ab9-b643-ae46f370cd98"
      },
      "source": [
        "# A) I'm good.\n",
        "print('I'm good.')"
      ],
      "execution_count": 2,
      "outputs": [
        {
          "output_type": "error",
          "ename": "SyntaxError",
          "evalue": "ignored",
          "traceback": [
            "\u001b[0;36m  File \u001b[0;32m\"<ipython-input-2-269cf67e2029>\"\u001b[0;36m, line \u001b[0;32m2\u001b[0m\n\u001b[0;31m    print('I'm good.')\u001b[0m\n\u001b[0m             ^\u001b[0m\n\u001b[0;31mSyntaxError\u001b[0m\u001b[0;31m:\u001b[0m invalid syntax\n"
          ]
        }
      ]
    },
    {
      "cell_type": "code",
      "metadata": {
        "id": "B9NxYrrkRcsi",
        "colab": {
          "base_uri": "https://localhost:8080/"
        },
        "outputId": "6debde28-9a56-47f7-f4d8-fa1bf6c0759b"
      },
      "source": [
        "# A) I'm good.\n",
        "print(\"I'm good\")\n",
        "print('''I'm good''')\n",
        "print(\"\"\"I'm good\"\"\")\n",
        "print('I\\'m good')"
      ],
      "execution_count": 3,
      "outputs": [
        {
          "output_type": "stream",
          "name": "stdout",
          "text": [
            "I'm good\n",
            "I'm good\n",
            "I'm good\n",
            "I'm good\n"
          ]
        }
      ]
    },
    {
      "cell_type": "code",
      "metadata": {
        "id": "oldX-ZwwRmBY",
        "colab": {
          "base_uri": "https://localhost:8080/",
          "height": 136
        },
        "outputId": "22900f1c-95b9-4773-d42a-b6f3395a5db7"
      },
      "source": [
        "# B) \"Python is very easy.\" He says.\n",
        "print(\"\"Python is very easy.\" He says.\")"
      ],
      "execution_count": 4,
      "outputs": [
        {
          "output_type": "error",
          "ename": "SyntaxError",
          "evalue": "ignored",
          "traceback": [
            "\u001b[0;36m  File \u001b[0;32m\"<ipython-input-4-af31d06c24d0>\"\u001b[0;36m, line \u001b[0;32m2\u001b[0m\n\u001b[0;31m    print(\"\"Python is very easy.\" He says.\")\u001b[0m\n\u001b[0m                 ^\u001b[0m\n\u001b[0;31mSyntaxError\u001b[0m\u001b[0;31m:\u001b[0m invalid syntax\n"
          ]
        }
      ]
    },
    {
      "cell_type": "code",
      "metadata": {
        "id": "YFC-Nka7Ru7i",
        "colab": {
          "base_uri": "https://localhost:8080/"
        },
        "outputId": "864f65c5-c4d7-4705-8b15-343711f85909"
      },
      "source": [
        "# B) \"Python is very easy.\" He says.\n",
        "print('\"Python is very easy.\" He says.')\n",
        "print('''\"Python is very easy.\" He says.''')\n",
        "print(\"\\\"Python is very easy.\\\" He says.\")"
      ],
      "execution_count": 5,
      "outputs": [
        {
          "output_type": "stream",
          "name": "stdout",
          "text": [
            "\"Python is very easy.\" He says.\n",
            "\"Python is very easy.\" He says.\n",
            "\"Python is very easy.\" He says.\n"
          ]
        }
      ]
    },
    {
      "cell_type": "code",
      "metadata": {
        "id": "_VdHS9S5SUj8",
        "colab": {
          "base_uri": "https://localhost:8080/",
          "height": 136
        },
        "outputId": "a68eb99f-6bf3-47d4-ee41-639fe5ed654a"
      },
      "source": [
        "# C) John's favorite food is Pizza.\n",
        "print('John's favorite food is Pizza.')"
      ],
      "execution_count": 6,
      "outputs": [
        {
          "output_type": "error",
          "ename": "SyntaxError",
          "evalue": "ignored",
          "traceback": [
            "\u001b[0;36m  File \u001b[0;32m\"<ipython-input-6-968b8cab8bec>\"\u001b[0;36m, line \u001b[0;32m2\u001b[0m\n\u001b[0;31m    print('John's favorite food is Pizza.')\u001b[0m\n\u001b[0m                ^\u001b[0m\n\u001b[0;31mSyntaxError\u001b[0m\u001b[0;31m:\u001b[0m invalid syntax\n"
          ]
        }
      ]
    },
    {
      "cell_type": "code",
      "metadata": {
        "id": "qm-9PYC3Sb2B",
        "colab": {
          "base_uri": "https://localhost:8080/"
        },
        "outputId": "8ec7322a-3bfa-46c3-a726-0371f963e56b"
      },
      "source": [
        "# C) John's favorite food is Pizza.\n",
        "print(\"John's favorite food is Pizza.\")\n",
        "print(\"\"\"John's favorite food is Pizza.\"\"\")\n",
        "print('John\\'s favorite food is ')"
      ],
      "execution_count": 7,
      "outputs": [
        {
          "output_type": "stream",
          "name": "stdout",
          "text": [
            "John's favorite food is Pizza.\n",
            "John's favorite food is Pizza.\n",
            "John's favorite food is \n"
          ]
        }
      ]
    },
    {
      "cell_type": "code",
      "source": [
        "# D) multiple lines\n",
        "print('''ABCDE\n",
        "FGH\n",
        "\"last\"'''\n",
        ")\n",
        "\n",
        "print('''ABCDE\\nFGH\\n\"last\"''')"
      ],
      "metadata": {
        "id": "E488u-2hkItZ",
        "colab": {
          "base_uri": "https://localhost:8080/"
        },
        "outputId": "a89bdd29-acbc-4794-9ace-e15b8e0dd1f1"
      },
      "execution_count": 8,
      "outputs": [
        {
          "output_type": "stream",
          "name": "stdout",
          "text": [
            "ABCDE\n",
            "FGH\n",
            "\"last\"\n",
            "ABCDE\n",
            "FGH\n",
            "\"last\"\n"
          ]
        }
      ]
    },
    {
      "cell_type": "code",
      "source": [
        "# String operators '+', '*'\n",
        "str1 = \"Hi\"\n",
        "str2 = \"!\"\n",
        "print(str1 + str2)\n",
        "\n",
        "int1 = 5\n",
        "print(str1 + str2*int1)"
      ],
      "metadata": {
        "id": "-5e4bFnpl035",
        "colab": {
          "base_uri": "https://localhost:8080/"
        },
        "outputId": "cf09a622-4d13-4f68-f4c7-8e47531e0961"
      },
      "execution_count": 9,
      "outputs": [
        {
          "output_type": "stream",
          "name": "stdout",
          "text": [
            "Hi!\n",
            "Hi!!!!!\n"
          ]
        }
      ]
    },
    {
      "cell_type": "markdown",
      "metadata": {
        "id": "sn3HP0NeUz1N"
      },
      "source": [
        "## String Formatting: **% operator**, **.format()**, **f-string** methods\n",
        "\n",
        "Let's check out some exercises to uderstand `% operator`, `.format()`, `f-string` methods better.\n",
        "\n",
        "* % operator: \bformat specifier를 사용하여 특정 부분을 원하는 형식으로 표현 \n",
        "  - `%s`: string, `%c`: character, `%d`: integer, `%f`: floating point, `%%`: % character\n",
        "\n",
        "* .format(): `{}`와 `.format()`을 사용해 원하는 형식을 표현\n",
        "  - `{}`으로 원하는 부분을 명시: 순서를 매기거나 (index) 이름을 붙일 수 있음 \n",
        "\n",
        "* f-string: `f' '`와 `{}`을 사용해 원하는 형식을 표현\n",
        "  \n",
        "* 정렬, 공백 채우기, 자리수 지정하기\n",
        "  - `:<10`, `:>10`, `:^10`: 왼쪽, 오른쪽, 가운데 정렬\n",
        "  - `:a<10`, `:a>10`, `:a^10`: 정렬 & 공백을 a로 채움\n",
        "  - `:A.Bf`: 전체 자릿수 A (소수점 . 을 포함), 소수점 아래 B자리\n",
        "\n"
      ]
    },
    {
      "cell_type": "code",
      "metadata": {
        "id": "n3SBKQncZ-nP",
        "colab": {
          "base_uri": "https://localhost:8080/"
        },
        "outputId": "030559fc-fa15-4c1f-d03d-d836ac32208a"
      },
      "source": [
        "# 1\n",
        "name = \"Bob\"\n",
        "str_old = \"Hello! %s!!\" % name\n",
        "print(str_old)"
      ],
      "execution_count": 10,
      "outputs": [
        {
          "output_type": "stream",
          "name": "stdout",
          "text": [
            "Hello! Bob!!\n"
          ]
        }
      ]
    },
    {
      "cell_type": "code",
      "metadata": {
        "id": "XtfxVNrOWIF6",
        "colab": {
          "base_uri": "https://localhost:8080/"
        },
        "outputId": "67f7c01f-b897-4146-c02c-33f5d123103f"
      },
      "source": [
        "# 2\n",
        "name = \"Bob\"\n",
        "str_format = \"Hello! {}!!\".format(name)\n",
        "print(str_format)"
      ],
      "execution_count": 11,
      "outputs": [
        {
          "output_type": "stream",
          "name": "stdout",
          "text": [
            "Hello! Bob!!\n"
          ]
        }
      ]
    },
    {
      "cell_type": "code",
      "metadata": {
        "id": "IFsRdK_DaEJh",
        "colab": {
          "base_uri": "https://localhost:8080/"
        },
        "outputId": "8b8f3ee8-3816-4ace-d95b-c0a493a62853"
      },
      "source": [
        "# 3\n",
        "name = \"Bob\"\n",
        "str_f = f\"Hello! {name}!!\"\n",
        "print(str_f)"
      ],
      "execution_count": 12,
      "outputs": [
        {
          "output_type": "stream",
          "name": "stdout",
          "text": [
            "Hello! Bob!!\n"
          ]
        }
      ]
    },
    {
      "cell_type": "code",
      "metadata": {
        "id": "hXPHRQ1bWSNY",
        "colab": {
          "base_uri": "https://localhost:8080/"
        },
        "outputId": "d0c79eef-d9a9-43be-af6d-b83e19ef8ea5"
      },
      "source": [
        "# print the number 5 only\n",
        "\n",
        "print('%d' % 5)\n",
        "print('{}'.format(5))\n",
        "print(f'{5}')"
      ],
      "execution_count": 13,
      "outputs": [
        {
          "output_type": "stream",
          "name": "stdout",
          "text": [
            "5\n",
            "5\n",
            "5\n"
          ]
        }
      ]
    },
    {
      "cell_type": "markdown",
      "metadata": {
        "id": "XFAbMQtXVfBf"
      },
      "source": [
        "### Multiple values\n",
        "\n",
        "If we want to fill multiple values, we can use multiple curly brackets or multiple % operators.\n",
        "\n",
        "Print the numbers `1`, `10`, `100` each separated with a comma."
      ]
    },
    {
      "cell_type": "code",
      "metadata": {
        "id": "fdsrTMcMaeV8",
        "colab": {
          "base_uri": "https://localhost:8080/"
        },
        "outputId": "794def2d-0c8a-4711-f85f-cd84f1e3993f"
      },
      "source": [
        "my_str = 'Print the numbers: %d, %d and %d' %(1, 10, 100)\n",
        "print(my_str)"
      ],
      "execution_count": 14,
      "outputs": [
        {
          "output_type": "stream",
          "name": "stdout",
          "text": [
            "Print the numbers: 1, 10 and 100\n"
          ]
        }
      ]
    },
    {
      "cell_type": "code",
      "metadata": {
        "id": "pAOglKW_Uzaz",
        "colab": {
          "base_uri": "https://localhost:8080/"
        },
        "outputId": "8d51b306-a37d-4175-d24e-46ade09ca41e"
      },
      "source": [
        "my_str = 'Print the numbers: {0}, {1} and {2}'.format(1, 10, 100)\n",
        "print(my_str)"
      ],
      "execution_count": 15,
      "outputs": [
        {
          "output_type": "stream",
          "name": "stdout",
          "text": [
            "Print the numbers: 1, 10 and 100\n"
          ]
        }
      ]
    },
    {
      "cell_type": "code",
      "metadata": {
        "id": "ojKwfVkWXNJt",
        "colab": {
          "base_uri": "https://localhost:8080/"
        },
        "outputId": "3dd704a6-9ac9-456e-e3e8-ba9640978feb"
      },
      "source": [
        "my_str = 'Print the numbers: {no1}, {no2} and {no3}'.format(no2=10, no1=1, no3=100)\n",
        "print(my_str)\n",
        "\n",
        "inta = 1\n",
        "intb = 10\n",
        "intc = 100\n",
        "\n",
        "my_str = 'Print the numbers: {no1}, {no2} and {no3}'.format(no2=intb, no1=inta, no3=intc)\n",
        "print(my_str)"
      ],
      "execution_count": 17,
      "outputs": [
        {
          "output_type": "stream",
          "name": "stdout",
          "text": [
            "Print the numbers: 1, 10 and 100\n",
            "Print the numbers: 1, 10 and 100\n"
          ]
        }
      ]
    },
    {
      "cell_type": "code",
      "metadata": {
        "id": "3QncyOAPakdp",
        "colab": {
          "base_uri": "https://localhost:8080/"
        },
        "outputId": "214a6910-ef1c-40f1-dfe6-90afef4d6936"
      },
      "source": [
        "my_str = f'Print the numbers: {1}, {10} and {100}'\n",
        "print(my_str)"
      ],
      "execution_count": 18,
      "outputs": [
        {
          "output_type": "stream",
          "name": "stdout",
          "text": [
            "Print the numbers: 1, 10 and 100\n"
          ]
        }
      ]
    },
    {
      "cell_type": "markdown",
      "metadata": {
        "id": "u21-k7vocgEI"
      },
      "source": [
        "### How to format numbers\n",
        "\n",
        "A common problem with printing numbers is specifying the number of decimal places. Try these examples:"
      ]
    },
    {
      "cell_type": "code",
      "metadata": {
        "id": "RRMwTEk8c2IS",
        "colab": {
          "base_uri": "https://localhost:8080/"
        },
        "outputId": "006f62ff-0919-4d97-87dd-b8564c00a299"
      },
      "source": [
        "value = 4054.3\n",
        "print(value)"
      ],
      "execution_count": 19,
      "outputs": [
        {
          "output_type": "stream",
          "name": "stdout",
          "text": [
            "4054.3\n"
          ]
        }
      ]
    },
    {
      "cell_type": "code",
      "metadata": {
        "id": "sRpyE164dJ6u",
        "colab": {
          "base_uri": "https://localhost:8080/"
        },
        "outputId": "db88965d-126f-4008-a514-881b571579ff"
      },
      "source": [
        "print('!%.4f!' % value)\n",
        "print('!%15.2f!' % value)\n",
        "print('!%-15.2f' % value)"
      ],
      "execution_count": 22,
      "outputs": [
        {
          "output_type": "stream",
          "name": "stdout",
          "text": [
            "!4054.3000!\n",
            "!        4054.30!\n",
            "!4054.30        \n"
          ]
        }
      ]
    },
    {
      "cell_type": "code",
      "source": [
        "day = 'Today'\n",
        "print('{}\\'s temperature: {:d}°C'.format(day, 100))\n",
        "print('{0}\\'s temperature: {1:d}°C'.format(day, 100))\n",
        "print('{1}\\'s temperature: {0:d}°C'.format(100, day))\n",
        "print('{}\\'s temperature: {:.3f}°C'.format(day, 100))\n",
        "\n",
        "print('{}\\'s temperature: {:>10.3f}°C'.format(day, 100))\n",
        "print('{}\\'s temperature: {:<10.3f}°C'.format(day, 100))\n",
        "print('{}\\'s temperature: {:^10.3f}°C'.format(day, 100))"
      ],
      "metadata": {
        "id": "NRhAOFHsiH24",
        "colab": {
          "base_uri": "https://localhost:8080/"
        },
        "outputId": "45cffb00-9525-435e-bd8e-eca26fe49d7d"
      },
      "execution_count": 23,
      "outputs": [
        {
          "output_type": "stream",
          "name": "stdout",
          "text": [
            "Today's temperature: 100°C\n",
            "Today's temperature: 100°C\n",
            "Today's temperature: 100°C\n",
            "Today's temperature: 100.000°C\n",
            "Today's temperature:    100.000°C\n",
            "Today's temperature: 100.000   °C\n",
            "Today's temperature:  100.000  °C\n"
          ]
        }
      ]
    },
    {
      "cell_type": "code",
      "metadata": {
        "id": "4G6p29UUc5tJ",
        "colab": {
          "base_uri": "https://localhost:8080/"
        },
        "outputId": "f54023dc-9647-4c46-ad6a-bade55ce18df"
      },
      "source": [
        "print(f'1: {value}')\n",
        "print(f'2: {value:f}')\n",
        "print(f'3: {value:0.4f}')\n",
        "print(f'4: {value:>15.2f}')\n",
        "print(f'5: {value:<15.2f}')\n",
        "print(f'6: {value:*>15.2f}')"
      ],
      "execution_count": 24,
      "outputs": [
        {
          "output_type": "stream",
          "name": "stdout",
          "text": [
            "1: 4054.3\n",
            "2: 4054.300000\n",
            "3: 4054.3000\n",
            "4:         4054.30\n",
            "5: 4054.30        \n",
            "6: ********4054.30\n"
          ]
        }
      ]
    },
    {
      "cell_type": "markdown",
      "metadata": {
        "id": "urFTsu8idpQ5"
      },
      "source": [
        "## String Indexing, Slicing and Striding\n",
        "\n",
        "* **Indexing**: starts from `0` - from left to right\n",
        "  - negative index starts from `-1` - from right to left\n",
        "* **Slicing**: `my_str[start index: end index]` - it includes the character at `start index`, but not the character at `end index`.\n",
        "* **Striding**: `my_str[start index: end index: striding number]` - it also includes the character at `start index` but not the character at `end index`."
      ]
    },
    {
      "cell_type": "code",
      "metadata": {
        "id": "EKWpwdeJeTLi",
        "colab": {
          "base_uri": "https://localhost:8080/"
        },
        "outputId": "aa3328aa-6155-439e-a6f6-6ceb394880cd"
      },
      "source": [
        "my_str = \"Hello World\"\n",
        "print(my_str)"
      ],
      "execution_count": 25,
      "outputs": [
        {
          "output_type": "stream",
          "name": "stdout",
          "text": [
            "Hello World\n"
          ]
        }
      ]
    },
    {
      "cell_type": "code",
      "metadata": {
        "id": "U8ScXHRpeYaC",
        "colab": {
          "base_uri": "https://localhost:8080/"
        },
        "outputId": "0db63fc7-01ea-44f7-eddd-8cd34677d0ff"
      },
      "source": [
        "print(my_str[0])\n",
        "print(my_str[4])\n",
        "print(my_str[9])\n",
        "\n",
        "print(my_str[-1])\n",
        "print(my_str[-7])"
      ],
      "execution_count": 26,
      "outputs": [
        {
          "output_type": "stream",
          "name": "stdout",
          "text": [
            "H\n",
            "o\n",
            "l\n",
            "d\n",
            "o\n"
          ]
        }
      ]
    },
    {
      "cell_type": "code",
      "metadata": {
        "id": "miy8a7Ghel_L",
        "colab": {
          "base_uri": "https://localhost:8080/"
        },
        "outputId": "30579577-2ebd-4632-de8f-f8861974ef10"
      },
      "source": [
        "print(my_str)\n",
        "\n",
        "print(my_str[0:3]) # 3직전까지 뽑아온다\n",
        "print(my_str[:7]) # 0이 암묵적으로 들어있다고 생각하기\n",
        "print(my_str[5:]) # 끝 자리까지 포함하고 싶다!!\n",
        "print(my_str[4:-2])\n",
        "print(my_str[1:4] + my_str[-5:9])"
      ],
      "execution_count": 27,
      "outputs": [
        {
          "output_type": "stream",
          "name": "stdout",
          "text": [
            "Hello World\n",
            "Hel\n",
            "Hello W\n",
            " World\n",
            "o Wor\n",
            "ellWor\n"
          ]
        }
      ]
    },
    {
      "cell_type": "code",
      "metadata": {
        "id": "cC4yhUQ6fdoa",
        "colab": {
          "base_uri": "https://localhost:8080/"
        },
        "outputId": "4ed17f24-1e4e-4160-9784-b2494c115c24"
      },
      "source": [
        "print(my_str[0:7:2]) # 구간을 자르고 2개씩 건너뛴다.\n",
        "print(my_str[::3]) # 문자열 전체에 대해서 3개씩 건너뛴다."
      ],
      "execution_count": 28,
      "outputs": [
        {
          "output_type": "stream",
          "name": "stdout",
          "text": [
            "HloW\n",
            "HlWl\n"
          ]
        }
      ]
    },
    {
      "cell_type": "markdown",
      "metadata": {
        "id": "IQLRL8XmhWX_"
      },
      "source": [
        "## String Methods\n",
        "\n",
        "There are many in-built string methods in Python. Let's try out some exercises!\n",
        "- example: `my_str.count('a')`\n",
        "\n",
        "**Note**: All string methods returns new values. They do not change the original string."
      ]
    },
    {
      "cell_type": "code",
      "metadata": {
        "id": "y_IxzepfhyVI",
        "colab": {
          "base_uri": "https://localhost:8080/"
        },
        "outputId": "9cef7bfc-91b6-4ebf-f3ca-c8fc9dd66505"
      },
      "source": [
        "my_str = \"Hello World. Attention please.\"\n",
        "print(my_str)"
      ],
      "execution_count": 36,
      "outputs": [
        {
          "output_type": "stream",
          "name": "stdout",
          "text": [
            "Hello World. Attention please.\n"
          ]
        }
      ]
    },
    {
      "cell_type": "code",
      "metadata": {
        "id": "kNJJFN41h1HU",
        "colab": {
          "base_uri": "https://localhost:8080/"
        },
        "outputId": "2506e32f-a27f-4094-d8e0-c2c81020955c"
      },
      "source": [
        "# .count()\n",
        "print(my_str.count('l')) #''이 몇 번 들어가 있는지 알려준다\n",
        "print(my_str.count('e'))\n",
        "print(my_str.count('ea'))\n",
        "print(my_str)"
      ],
      "execution_count": 30,
      "outputs": [
        {
          "output_type": "stream",
          "name": "stdout",
          "text": [
            "4\n",
            "4\n",
            "1\n",
            "Hello World. Attention please.\n"
          ]
        }
      ]
    },
    {
      "cell_type": "code",
      "metadata": {
        "id": "FA0iTRHMh3L8",
        "colab": {
          "base_uri": "https://localhost:8080/"
        },
        "outputId": "68b03041-974f-4902-e9b9-9127a7824a43"
      },
      "source": [
        "# .find(), .index() 위치의 index값 반환해준다.\n",
        "\n",
        "print(my_str.find('o'))\n",
        "print(my_str.find('lo'))\n",
        "print(my_str.find('y')) # 존재하지 않는 건 -1로 반환\n",
        "\n",
        "print(my_str.index('o'))\n",
        "print(my_str.index('lo'))\n",
        "#print(my_str.index('y')) # 존재하지 않는 건 error 발생시킴"
      ],
      "execution_count": 31,
      "outputs": [
        {
          "output_type": "stream",
          "name": "stdout",
          "text": [
            "4\n",
            "3\n",
            "-1\n",
            "4\n",
            "3\n"
          ]
        }
      ]
    },
    {
      "cell_type": "code",
      "source": [
        "# .join() 들어가는 주체가 누구인지\n",
        "\n",
        "new_str = '+'.join(my_str)\n",
        "print(my_str)\n",
        "print(new_str)"
      ],
      "metadata": {
        "id": "SfCFAUXQkFxR",
        "colab": {
          "base_uri": "https://localhost:8080/"
        },
        "outputId": "5c63c587-437b-4eca-a28c-0189999dfa2a"
      },
      "execution_count": 32,
      "outputs": [
        {
          "output_type": "stream",
          "name": "stdout",
          "text": [
            "Hello World. Attention please.\n",
            "H+e+l+l+o+ +W+o+r+l+d+.+ +A+t+t+e+n+t+i+o+n+ +p+l+e+a+s+e+.\n"
          ]
        }
      ]
    },
    {
      "cell_type": "code",
      "metadata": {
        "id": "UmXJf5CPiHcL",
        "colab": {
          "base_uri": "https://localhost:8080/"
        },
        "outputId": "6e187f53-02a6-4ee7-e41c-5dab99f56a5a"
      },
      "source": [
        "# .replace() 값을 바꿔주는 함수\n",
        "\n",
        "print(my_str.replace('World','Guys'))\n",
        "print(my_str.replace('Hello', 'Hi'))\n",
        "\n",
        "print(my_str) # 원래있던 문자열을 바꿔주지는 않는다. 결과를 my_str에 통째로 할당 시키기!\n",
        "my_Str = my_str.replace('Hello', 'Hi')\n",
        "print(my_Str)"
      ],
      "execution_count": 35,
      "outputs": [
        {
          "output_type": "stream",
          "name": "stdout",
          "text": [
            "Hi Guys. Attention please.\n",
            "Hi World. Attention please.\n",
            "Hi World. Attention please.\n",
            "Hi World. Attention please.\n"
          ]
        }
      ]
    },
    {
      "cell_type": "code",
      "metadata": {
        "id": "NApowHTMiYbG",
        "colab": {
          "base_uri": "https://localhost:8080/"
        },
        "outputId": "83594e4d-e152-44db-a5a3-3682d7cff718"
      },
      "source": [
        "# .split()\n",
        "\n",
        "print(my_str)\n",
        "print(my_str.split())\n",
        "print(my_str.split('l'))"
      ],
      "execution_count": 37,
      "outputs": [
        {
          "output_type": "stream",
          "name": "stdout",
          "text": [
            "Hello World. Attention please.\n",
            "['Hello', 'World.', 'Attention', 'please.']\n",
            "['He', '', 'o Wor', 'd. Attention p', 'ease.']\n"
          ]
        }
      ]
    },
    {
      "cell_type": "code",
      "metadata": {
        "id": "9sYQY6w7igpx",
        "colab": {
          "base_uri": "https://localhost:8080/"
        },
        "outputId": "51796ad2-b801-4d66-834d-03fa16261d9d"
      },
      "source": [
        "# .split()\n",
        "str2 = 'Ally, Bob, Charlie, David, John'\n",
        "str2.split(',')"
      ],
      "execution_count": 38,
      "outputs": [
        {
          "output_type": "execute_result",
          "data": {
            "text/plain": [
              "['Ally', ' Bob', ' Charlie', ' David', ' John']"
            ]
          },
          "metadata": {},
          "execution_count": 38
        }
      ]
    },
    {
      "cell_type": "code",
      "metadata": {
        "id": "Jqpx9e-xisnM",
        "colab": {
          "base_uri": "https://localhost:8080/"
        },
        "outputId": "289161d2-502e-4527-b089-9efbf3256c52"
      },
      "source": [
        "# .strip(), .lstrip(), .rstrip()\n",
        "\n",
        "str3 = '   Hello   hi!   '\n",
        "print(str3)\n",
        "\n",
        "print(str3.strip()) # 양쪽의 공백 모두 제거\n",
        "print(str3.lstrip()) # 왼쪽 공백 제거\n",
        "print(str3.rstrip()) # 오른쪽 공백 제거"
      ],
      "execution_count": 39,
      "outputs": [
        {
          "output_type": "stream",
          "name": "stdout",
          "text": [
            "   Hello   hi!   \n",
            "Hello   hi!\n",
            "Hello   hi!   \n",
            "   Hello   hi!\n"
          ]
        }
      ]
    },
    {
      "cell_type": "markdown",
      "metadata": {
        "id": "2TPK2djhhQnU"
      },
      "source": [
        "## Exercise\n"
      ]
    },
    {
      "cell_type": "markdown",
      "metadata": {
        "id": "r7Wl2Xq8pUph"
      },
      "source": [
        "### E-1\n",
        "\n",
        "Assign the string below to the variables `my_str1`, `my_str2`, `my_str3` using three different ways:\n",
        "\n",
        "`\"It's always darkest before dawn.\"`\n"
      ]
    },
    {
      "cell_type": "code",
      "metadata": {
        "id": "zjwZhgjJilkN",
        "colab": {
          "base_uri": "https://localhost:8080/"
        },
        "outputId": "bb464a36-4f61-4667-b456-89d7d9076bf6"
      },
      "source": [
        "# your code here:\n",
        "\n",
        "my_str1 = '''\"It's always darkest before dawn.\"'''\n",
        "my_str2 = '\"It\\'s always darkest before dawn.\"'\n",
        "my_str3 = '\\\"It\\'s always darkest before dawn.\\\"'\n",
        "\n",
        "print(my_str1)\n",
        "print(my_str2)\n",
        "print(my_str3)"
      ],
      "execution_count": 61,
      "outputs": [
        {
          "output_type": "stream",
          "name": "stdout",
          "text": [
            "\"It's always darkest before dawn.\"\n",
            "\"It's always darkest before dawn.\"\n",
            "\"It's always darkest before dawn.\"\n"
          ]
        }
      ]
    },
    {
      "cell_type": "markdown",
      "metadata": {
        "id": "wNPDV04-nTbg"
      },
      "source": [
        "### E-2\n",
        "\n",
        "Print the following sentence by using different formatting methods: \n",
        "\n",
        "`One year has 12 months, 52 weeks and 365 days.`"
      ]
    },
    {
      "cell_type": "code",
      "metadata": {
        "id": "AukDzAaobtbJ"
      },
      "source": [
        "month = 12\n",
        "week = 52\n",
        "day = 365"
      ],
      "execution_count": 41,
      "outputs": []
    },
    {
      "cell_type": "markdown",
      "metadata": {
        "id": "qC1h6695bP4t"
      },
      "source": [
        "**using % operators**"
      ]
    },
    {
      "cell_type": "code",
      "metadata": {
        "id": "rsgdoSnebNwJ",
        "colab": {
          "base_uri": "https://localhost:8080/"
        },
        "outputId": "596c16d3-b4e7-4869-bf75-d9b2f0d7f237"
      },
      "source": [
        "# using % operators\n",
        "print(\"One year has %d months, %d weeks and %d days\" % (month, week, day))"
      ],
      "execution_count": 62,
      "outputs": [
        {
          "output_type": "stream",
          "name": "stdout",
          "text": [
            "One year has 12 months, 52 weeks and 365 days\n"
          ]
        }
      ]
    },
    {
      "cell_type": "markdown",
      "metadata": {
        "id": "8s9BgN7bbdDE"
      },
      "source": [
        "**using `.format()` method**"
      ]
    },
    {
      "cell_type": "code",
      "source": [
        "# using .format() method with empty brackets {}\n",
        "print(\"One year has {} months, {} weeks and {} days\" .format(month, week, day))\n",
        "\n",
        "\n",
        "# using .format() method with name for each bracket\n",
        "print(\"One year has {m} months, {w} weeks and {d} days\" .format(m=month, w=week, d=day))\n",
        "\n",
        "\n",
        "# using .format() method with index for each bracket\n",
        "print(\"One year has {0} months, {1} weeks and {2} days\" .format(month, week, day))\n",
        "\n"
      ],
      "metadata": {
        "id": "NWlPj1CFleTh",
        "colab": {
          "base_uri": "https://localhost:8080/"
        },
        "outputId": "e60c65c3-920f-41f6-b32e-8f4e3829ed54"
      },
      "execution_count": 47,
      "outputs": [
        {
          "output_type": "stream",
          "name": "stdout",
          "text": [
            "One year has 12 months, 52 weeks and 365 days\n",
            "One year has 12 months, 52 weeks and 365 days\n",
            "One year has 12 months, 52 weeks and 365 days\n"
          ]
        }
      ]
    },
    {
      "cell_type": "markdown",
      "metadata": {
        "id": "VTEnq0M7bj-b"
      },
      "source": [
        "**using f-string**"
      ]
    },
    {
      "cell_type": "code",
      "metadata": {
        "id": "AoIR_f8gbmC1",
        "colab": {
          "base_uri": "https://localhost:8080/"
        },
        "outputId": "224bc359-033e-46a7-af32-6e6aae1f4b36"
      },
      "source": [
        "# using f-string\n",
        "print(f\"One year has {month} months, {week} weeks and {day} days\")"
      ],
      "execution_count": 48,
      "outputs": [
        {
          "output_type": "stream",
          "name": "stdout",
          "text": [
            "One year has 12 months, 52 weeks and 365 days\n"
          ]
        }
      ]
    },
    {
      "cell_type": "markdown",
      "metadata": {
        "id": "4Z-wCabHZIzq"
      },
      "source": [
        "### E-3\n",
        "Fill inside the `.format()` so that it matches the correct appropriate values.\n",
        "\n",
        "`Scores are following: Bob 60, David 75, John 90.`"
      ]
    },
    {
      "cell_type": "code",
      "metadata": {
        "id": "WIBedH3QZG7c",
        "colab": {
          "base_uri": "https://localhost:8080/"
        },
        "outputId": "4bee5b24-7eb1-4b3c-8e44-302ea48d7a3d"
      },
      "source": [
        "John = 90\n",
        "Bob = 60\n",
        "David = 75\n",
        "\n",
        "# your code here\n",
        "\n",
        "print(\"Scores are following: Bob {1}, David {2}, John {0}\" .format(John, Bob, David))\n",
        "print(\"Scores are following: Bob {Bob}, David {David}, John {John}\" .format(John=John, Bob=Bob, David=David))"
      ],
      "execution_count": 71,
      "outputs": [
        {
          "output_type": "stream",
          "name": "stdout",
          "text": [
            "Scores are following: Bob 60, David 75, John 90\n",
            "Scores are following: Bob 60, David 75, John 90\n"
          ]
        }
      ]
    },
    {
      "cell_type": "markdown",
      "metadata": {
        "id": "AoMN67VpgFLK"
      },
      "source": [
        "### E-4\n",
        "Given a string, return a new string made of the first, third and last characters of the string. "
      ]
    },
    {
      "cell_type": "code",
      "metadata": {
        "id": "r21ox-G-frFC",
        "colab": {
          "base_uri": "https://localhost:8080/"
        },
        "outputId": "a9bc0511-aaf7-4106-8134-c63d4eeb92d4"
      },
      "source": [
        "str1 = \"Python\"\n",
        "\n",
        "# your code here\n",
        "new_str1 = str1[0]+str1[2]+str1[-1]\n",
        "\n",
        "print(new_str1)"
      ],
      "execution_count": 72,
      "outputs": [
        {
          "output_type": "stream",
          "name": "stdout",
          "text": [
            "Ptn\n"
          ]
        }
      ]
    },
    {
      "cell_type": "markdown",
      "metadata": {
        "id": "qjglkL_9j28L"
      },
      "source": [
        "### E-5\n",
        "Reassign `str1` so that all of its characters are uppercase."
      ]
    },
    {
      "cell_type": "code",
      "metadata": {
        "id": "KTJx8QJ4jowo",
        "colab": {
          "base_uri": "https://localhost:8080/"
        },
        "outputId": "15dafe70-5bdb-4227-ec94-edcffe0f145f"
      },
      "source": [
        "# your code here\n",
        "\n",
        "str1 = str1.upper()\n",
        "print(str1)"
      ],
      "execution_count": 70,
      "outputs": [
        {
          "output_type": "stream",
          "name": "stdout",
          "text": [
            "PYTHON\n"
          ]
        }
      ]
    },
    {
      "cell_type": "markdown",
      "metadata": {
        "id": "UgUv7gOAjPbk"
      },
      "source": [
        "### E-6\n",
        "\n",
        "For a string `str2`, replace the `.` with `?` and assign it to `str2` again - that is, change the `.` in a string `str2` with `?`. "
      ]
    },
    {
      "cell_type": "code",
      "metadata": {
        "id": "swuEUY7sganO",
        "colab": {
          "base_uri": "https://localhost:8080/"
        },
        "outputId": "bcf48d3e-d8fe-4d3d-bf5d-07e4cbb3b1fc"
      },
      "source": [
        "str2 = \"192.168.0.12\"\n",
        "\n",
        "# your code here\n",
        "str2 = str2.replace('.','?')\n",
        "print(str2)"
      ],
      "execution_count": 51,
      "outputs": [
        {
          "output_type": "stream",
          "name": "stdout",
          "text": [
            "192?168?0?12\n"
          ]
        }
      ]
    },
    {
      "cell_type": "markdown",
      "metadata": {
        "id": "LFSvPOXVmP6s"
      },
      "source": [
        "### E-7\n",
        "What is the length of the given string? "
      ]
    },
    {
      "cell_type": "code",
      "metadata": {
        "id": "vZ9dLr_rlpiE",
        "colab": {
          "base_uri": "https://localhost:8080/"
        },
        "outputId": "cf3f4be3-7b6f-4cd8-c466-b28343bd0323"
      },
      "source": [
        "str3 = \"People often say that motivation doesn't last. Well, neither does bathing.  That's why we recommend it daily.\"\n",
        "str4 = \"2.0592\"\n",
        "\n",
        "# your code here\n",
        "print(len(str3))\n",
        "print(len(str4))"
      ],
      "execution_count": 55,
      "outputs": [
        {
          "output_type": "stream",
          "name": "stdout",
          "text": [
            "109\n",
            "6\n"
          ]
        }
      ]
    },
    {
      "cell_type": "markdown",
      "metadata": {
        "id": "1MRSWX-jlZ4g"
      },
      "source": [
        "### E-8\n",
        "Which character occur more often in the string? `t` or `i`? Print the following result using print function (and also using a string formatting!).\n",
        "\n",
        "`Count of t is \"11\", Count of i is \"6\".`\n",
        "\n",
        "`Frequency of t is 10.19%, Frequency of i is 5.56%.`\n",
        "\n",
        "\n",
        "- frequency is the fraction of the count and the total length of the sentence"
      ]
    },
    {
      "cell_type": "code",
      "metadata": {
        "id": "HdhgNPc2kF2f",
        "colab": {
          "base_uri": "https://localhost:8080/"
        },
        "outputId": "43ce3f64-e408-4e26-d09b-2939fc1aa527"
      },
      "source": [
        "str3 = \"People often say that motivation doesn't last. Well, neither does bathing. That's why we recommend it daily.\"\n",
        "\n",
        "# your code here\n",
        "a = str3.count('t')\n",
        "b = str3.count('i')\n",
        "per_a = str3.count('t')/len(str3)*100\n",
        "per_b = str3.count('i')/len(str3)*100\n",
        "\n",
        "print(a, b, per_a, per_b)\n",
        "print(f\"Count of t is \\\"{a}\\\", Count of i is \\\"{b}\\\".\")\n",
        "print(f\"Frequency of t is {per_a:.2f}%, Frequency of i is {per_b:.2f}%.\")\n",
        "\n",
        "print(f\"Count of t is \\\"{a}\\\", Count of i is \\\"{b}\\\".\\nFrequency of t is {per_a:.2f}%, Frequency of i is {per_b:.2f}%.\")\n"
      ],
      "execution_count": 83,
      "outputs": [
        {
          "output_type": "stream",
          "name": "stdout",
          "text": [
            "11 6 10.185185185185185 5.555555555555555\n",
            "Count of t is \"11\", Count of i is \"6\".\n",
            "Frequency of t is 10.19%, Frequency of i is 5.56%.\n",
            "Count of t is \"11\", Count of i is \"6\".\n",
            "Frequency of t is 10.19%, Frequency of i is 5.56%.\n"
          ]
        }
      ]
    },
    {
      "cell_type": "markdown",
      "source": [
        "### E-9\n",
        "\n",
        "Using string slicing and formatting, print the followings:\n",
        "\n",
        "```\n",
        "!!220321!!\n",
        "1234567***\n",
        "```"
      ],
      "metadata": {
        "id": "hqZx0G2AmTtU"
      }
    },
    {
      "cell_type": "code",
      "source": [
        "my_str = '220321-1234567'\n",
        "\n",
        "# your code here\n",
        "str_a = my_str.split('-')[0]\n",
        "str_b = my_str.split('-')[1]\n",
        "print(str_a, str_b)\n",
        "\n",
        "str_a1 = my_str[0:6]\n",
        "str_b1 = my_str[7:]\n",
        "print(str_a1, str_b1)\n",
        "\n",
        "# 이렇게 두 가지 방법으로 인덱싱할 수 있다. \n",
        "\n",
        "aa = f'{str_a:!^10}'\n",
        "bb = f'{str_b:*<10}'\n",
        "print(aa)\n",
        "print(bb)\n"
      ],
      "metadata": {
        "id": "RTBBvjdWmUuI",
        "colab": {
          "base_uri": "https://localhost:8080/"
        },
        "outputId": "f4acbcd3-d911-4cec-c00d-2a667a5f11e3"
      },
      "execution_count": 94,
      "outputs": [
        {
          "output_type": "stream",
          "name": "stdout",
          "text": [
            "220321 1234567\n",
            "220321 1234567\n",
            "!!220321!!\n",
            "1234567***\n"
          ]
        }
      ]
    }
  ]
}