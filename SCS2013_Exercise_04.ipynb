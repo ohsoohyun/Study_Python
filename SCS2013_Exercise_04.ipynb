{
  "nbformat": 4,
  "nbformat_minor": 0,
  "metadata": {
    "colab": {
      "name": "SCS2013_Exercise_04.ipynb",
      "provenance": [],
      "collapsed_sections": [],
      "toc_visible": true,
      "include_colab_link": true
    },
    "kernelspec": {
      "name": "python3",
      "display_name": "Python 3"
    },
    "language_info": {
      "name": "python"
    }
  },
  "cells": [
    {
      "cell_type": "markdown",
      "metadata": {
        "id": "view-in-github",
        "colab_type": "text"
      },
      "source": [
        "<a href=\"https://colab.research.google.com/github/ohsoohyun/python_study/blob/main/SCS2013_Exercise_04.ipynb\" target=\"_parent\"><img src=\"https://colab.research.google.com/assets/colab-badge.svg\" alt=\"Open In Colab\"/></a>"
      ]
    },
    {
      "cell_type": "markdown",
      "metadata": {
        "id": "EzZiRhCEg1JC"
      },
      "source": [
        "# SCS2013 Exercise 04 (2022-Spring)\n",
        "\n",
        "**This exercise notebook will go through the key data structures in Python:**\n",
        "\n",
        "Lists, Tuples, Dictionaries, Sets are 4 **collection types** in Python\n",
        "\n",
        "* Lists (리스트)\n",
        "  - A collection which is ordered and changeable. Allows duplicate items.\n",
        "* Tuples (튜플)\n",
        "  - A collection which is ordered and unchangeable. Allows duplicate items.\n",
        "* Dictionaries (딕셔너리)\n",
        "  - A collection which is ordered and changeable. No duplicate items.\n",
        "* Sets (집합)\n",
        "  - A collection which is unordered, unchangeable, and unindexed. No duplicate items."
      ]
    },
    {
      "cell_type": "markdown",
      "metadata": {
        "id": "SILcODfCinqu"
      },
      "source": [
        "## Lists (리스트)\n",
        "\n",
        "List is a collection which is **ordered** and **changeable**. It **allows duplicate** items\n",
        "  - it is a data sequence that can hold multiple, different types of data \n",
        "\n",
        "  - represented inside **brackets \"[]\"**\n",
        "  - elements are separated with **commas \",\"**\n",
        "  - **Syntax**\n",
        "  ```\n",
        "  list_name = [element1, element2, ...]\n",
        "  ```\n",
        "  - mutability = changeable: the values inside a list are changeable\n",
        "  - it has an index order that starts with `0` - we can access each element inside a list with its index number\n",
        "  \n",
        "\n",
        "\n",
        "\n",
        "\n",
        "\n"
      ]
    },
    {
      "cell_type": "code",
      "metadata": {
        "id": "0hTLdLzXWp3g",
        "colab": {
          "base_uri": "https://localhost:8080/"
        },
        "outputId": "6b84f6df-f196-498a-9a7f-4b6fc9bb93d1"
      },
      "source": [
        "# Create a list ['Hello World', 3, 2.5, ['Python', 'Programming'], 'SCS2013']\n",
        "lst = ['Hello World', 3, 2.5, ['Python', 'Programming'], 'SCS2013']\n",
        "lst"
      ],
      "execution_count": 44,
      "outputs": [
        {
          "output_type": "execute_result",
          "data": {
            "text/plain": [
              "['Hello World', 3, 2.5, ['Python', 'Programming'], 'SCS2013']"
            ]
          },
          "metadata": {},
          "execution_count": 44
        }
      ]
    },
    {
      "cell_type": "code",
      "metadata": {
        "id": "R_QuUH15WxLg",
        "colab": {
          "base_uri": "https://localhost:8080/"
        },
        "outputId": "0d46fdc8-73cc-4718-fc13-4736ece5f40e"
      },
      "source": [
        "# List indexing, slicing and striding\n",
        "# check the length of the list\n",
        "print(len(lst))\n",
        "\n",
        "# check the index and slicing \n",
        "print(lst[0])\n",
        "print(lst[2])\n",
        "print(lst[1:3])\n",
        "\n",
        "print(lst[-2])\n",
        "# check the type of lst[-2]\n",
        "print(type(lst[-2]))"
      ],
      "execution_count": 38,
      "outputs": [
        {
          "output_type": "stream",
          "name": "stdout",
          "text": [
            "5\n",
            "Hello World\n",
            "2.5\n",
            "[3, 2.5]\n",
            "['Python', 'Programming']\n",
            "<class 'list'>\n"
          ]
        }
      ]
    },
    {
      "cell_type": "code",
      "metadata": {
        "id": "5HxUKqAeaZLT",
        "colab": {
          "base_uri": "https://localhost:8080/"
        },
        "outputId": "b925ef3a-592c-499b-e7e1-b9f433003f11"
      },
      "source": [
        "# access the element of the nested list\n",
        "print(lst[-2][0])\n",
        "print(lst[-2][1])\n",
        "print(lst[-2][1][0])"
      ],
      "execution_count": 42,
      "outputs": [
        {
          "output_type": "stream",
          "name": "stdout",
          "text": [
            "Python\n",
            "Programming\n",
            "P\n"
          ]
        }
      ]
    },
    {
      "cell_type": "code",
      "metadata": {
        "id": "P2AzXFyTXcvF",
        "colab": {
          "base_uri": "https://localhost:8080/"
        },
        "outputId": "3d65cb12-f888-446e-9b40-927b79d8266b"
      },
      "source": [
        "# Mutability \n",
        "print(lst)\n",
        "\n",
        "# change index 2 value\n",
        "lst[2] = 1.4\n",
        "print(lst)"
      ],
      "execution_count": 45,
      "outputs": [
        {
          "output_type": "stream",
          "name": "stdout",
          "text": [
            "['Hello World', 3, 2.5, ['Python', 'Programming'], 'SCS2013']\n",
            "['Hello World', 3, 1.4, ['Python', 'Programming'], 'SCS2013']\n"
          ]
        }
      ]
    },
    {
      "cell_type": "markdown",
      "metadata": {
        "id": "_Kw7suQ8dQdR"
      },
      "source": [
        "**List Methods**\n",
        "\n",
        "Here are some list methods:\n",
        "- `.append(a)`: adding element `a` to a list\n",
        "- `.insert(idx, a)`: inserting element `a` to a particular position `idx` of the list\n",
        "- `.index(a)`: show the index of an element `a`\n",
        "- `.clear()`: clear all elements of the list\n",
        "- `.remove(a)`: removing an element `a` of the list\n",
        "- `.reverse()`: reversing the order of elements\n",
        "- `.count(a)`: counting how many elements `a` there are in the list\n",
        "- `sum()`: sum all the elements in the list\n",
        "- `min()`: show the element with minimum value in the list\n",
        "- `max()`: show the element with maximum value in the list\n",
        "- `del list[idx]`: delete an element at a particular position `idx` of the list\n",
        "\n",
        "**note**: `.append()`, `.insert()`, `.clear()`, `.remove()`, `.reverse()`: list의 값을 바로 변경함"
      ]
    },
    {
      "cell_type": "code",
      "metadata": {
        "id": "gN53XSB9eHXU",
        "colab": {
          "base_uri": "https://localhost:8080/"
        },
        "outputId": "698b89dc-2a6a-4b2e-b674-b74ad92434c6"
      },
      "source": [
        "# .append()\n",
        "lst_1 = ['Hello', 'World', 31, 2.7, True, 'True', '31']\n",
        "print(lst_1)\n",
        "lst_1.append(\"Append\")\n",
        "print(lst_1)\n",
        "\n",
        "# .insert() 넣고싶은 위치까지 조정가능하다.\n",
        "lst_1 = ['Hello', 'World', 31, 2.7, True, 'True', '31']\n",
        "print(lst_1)\n",
        "lst_1.insert(3, \"Insert\")\n",
        "print(lst_1)"
      ],
      "execution_count": 46,
      "outputs": [
        {
          "output_type": "stream",
          "name": "stdout",
          "text": [
            "['Hello', 'World', 31, 2.7, True, 'True', '31']\n",
            "['Hello', 'World', 31, 2.7, True, 'True', '31', 'Append']\n",
            "['Hello', 'World', 31, 2.7, True, 'True', '31']\n",
            "['Hello', 'World', 31, 'Insert', 2.7, True, 'True', '31']\n"
          ]
        }
      ]
    },
    {
      "cell_type": "code",
      "metadata": {
        "id": "5K6ax2ycfD6j",
        "colab": {
          "base_uri": "https://localhost:8080/"
        },
        "outputId": "65fb7c28-0773-46a3-f9ec-6048370c0c6e"
      },
      "source": [
        "# .index() 위치를 찾고 싶을 때\n",
        "lst_1 = ['Hello', 'World', 31, 2.7, True, 'True', '31']\n",
        "print(lst_1)\n",
        "print(lst_1.index(31))"
      ],
      "execution_count": 47,
      "outputs": [
        {
          "output_type": "stream",
          "name": "stdout",
          "text": [
            "['Hello', 'World', 31, 2.7, True, 'True', '31']\n",
            "2\n"
          ]
        }
      ]
    },
    {
      "cell_type": "code",
      "metadata": {
        "id": "TES0L3fRfMvu",
        "colab": {
          "base_uri": "https://localhost:8080/"
        },
        "outputId": "af3faa42-a280-454d-c850-7b1819b0709e"
      },
      "source": [
        "# .clear() 모든 내용을 다 지운다.\n",
        "lst_1 = ['Hello', 'World', 31, 2.7, True, 'True', '31']\n",
        "print(lst_1)\n",
        "lst_1.clear()\n",
        "print(lst_1)\n",
        "\n",
        "# .remove()\n",
        "lst_1 = ['Hello', 'World', 31, 2.7, True, 'True', '31', 'World']\n",
        "print(lst_1)\n",
        "lst_1.remove('World') # 처음 나타낸 것을 지워줌\n",
        "print(lst_1)\n",
        "\n",
        "#lst_1.remove('World')\n",
        "\n",
        "# del \n",
        "lst_1 = ['Hello', 'World', 31, 2.7, True, 'True', '31']\n",
        "print(lst_1)\n",
        "del lst_1[1]\n",
        "print(lst_1)"
      ],
      "execution_count": 49,
      "outputs": [
        {
          "output_type": "stream",
          "name": "stdout",
          "text": [
            "['Hello', 'World', 31, 2.7, True, 'True', '31']\n",
            "[]\n",
            "['Hello', 'World', 31, 2.7, True, 'True', '31', 'World']\n",
            "['Hello', 31, 2.7, True, 'True', '31', 'World']\n",
            "['Hello', 'World', 31, 2.7, True, 'True', '31']\n",
            "['Hello', 31, 2.7, True, 'True', '31']\n"
          ]
        }
      ]
    },
    {
      "cell_type": "code",
      "metadata": {
        "id": "BiE5eChHfkiS",
        "colab": {
          "base_uri": "https://localhost:8080/"
        },
        "outputId": "52e5dad8-8dd8-4b32-b193-1ea779c7c019"
      },
      "source": [
        "# .sort() - ascending 오름차순\n",
        "lst_1 = [1, 2, 34, 6]\n",
        "print(lst_1)\n",
        "lst_1.sort()\n",
        "print(lst_1)\n",
        "\n",
        "# .reverse() - descending 내림차순\n",
        "lst_1 = ['Hello', 'World', 31, 2.7, True, 'True', '31']\n",
        "print(lst_1)\n",
        "lst_1.reverse()\n",
        "print(lst_1)"
      ],
      "execution_count": 50,
      "outputs": [
        {
          "output_type": "stream",
          "name": "stdout",
          "text": [
            "[1, 2, 34, 6]\n",
            "[1, 2, 6, 34]\n",
            "['Hello', 'World', 31, 2.7, True, 'True', '31']\n",
            "['31', 'True', True, 2.7, 31, 'World', 'Hello']\n"
          ]
        }
      ]
    },
    {
      "cell_type": "code",
      "metadata": {
        "id": "1AJOcuxWfupW",
        "colab": {
          "base_uri": "https://localhost:8080/"
        },
        "outputId": "56b188ce-d00e-42fb-d0ef-007be350f397"
      },
      "source": [
        "# sum(), min(), max()\n",
        "# lst_1 = ['Hello', 'World', 31, 2.7, True, 'True', '31']\n",
        "# print(lst_1)\n",
        "# sum(lst_1) <- 에러가 난다.\n",
        "\n",
        "lst_1 = [3, 75, 6, 23, 3, 13]\n",
        "print(lst_1)\n",
        "\n",
        "print(sum(lst_1))\n",
        "print(min(lst_1))\n",
        "print(max(lst_1))"
      ],
      "execution_count": 51,
      "outputs": [
        {
          "output_type": "stream",
          "name": "stdout",
          "text": [
            "[3, 75, 6, 23, 3, 13]\n",
            "123\n",
            "3\n",
            "75\n"
          ]
        }
      ]
    },
    {
      "cell_type": "markdown",
      "metadata": {
        "id": "b3D3P6VgX3jH"
      },
      "source": [
        "## Tuples (튜플)\n",
        "\n",
        "Tuple is a collection which is **ordered** and **unchangeable**. It **allows duplicate** items\n",
        "  - it is a data sequence that can hold multiple, different types of data \n",
        "\n",
        "  - represented inside **parenthesis \"()\"**\n",
        "  - elements are separated with **commas \",\"**\n",
        "  - **Syntax**\n",
        "  ```\n",
        "  tuple_name = (element1, element2, ...)\n",
        "  ```\n",
        "\n",
        "  - immutability = unchangeable: the values inside a tuple cannot be changed\n",
        "  - it has an index order that starts with `0` - we can access each element inside a tuple with its index number\n",
        "\n"
      ]
    },
    {
      "cell_type": "code",
      "metadata": {
        "id": "W9olwtk1uxl6",
        "colab": {
          "base_uri": "https://localhost:8080/"
        },
        "outputId": "c19a37b5-6d04-4911-bc69-22198ffb2aef"
      },
      "source": [
        "# create a tuple <- 중복된 값을 각각의 값으로 인식해준다.\n",
        "tup = ('Hello World', 3, 2.5, ['Python', 'Programming'], ('SCS', 2013), 3) # duplicates\n",
        "tup"
      ],
      "execution_count": 52,
      "outputs": [
        {
          "output_type": "execute_result",
          "data": {
            "text/plain": [
              "('Hello World', 3, 2.5, ['Python', 'Programming'], ('SCS', 2013), 3)"
            ]
          },
          "metadata": {},
          "execution_count": 52
        }
      ]
    },
    {
      "cell_type": "code",
      "metadata": {
        "id": "eLJZ4ZSgvVHT",
        "colab": {
          "base_uri": "https://localhost:8080/"
        },
        "outputId": "79bed919-5c85-4e73-8285-7f6a1fd1c37c"
      },
      "source": [
        "# tuple indexing, slicing and striding\n",
        "tup = ('Hello World', 3, 2.5, ['Python', 'Programming'], ('SCS', 2013))\n",
        "print(len(tup))\n",
        "\n",
        "print(tup[0])\n",
        "print(tup[3:])\n",
        "\n",
        "print(tup[-2])\n",
        "print(tup[-1])\n",
        "\n",
        "print(tup[-2][0])\n",
        "print(tup[-1][0])"
      ],
      "execution_count": 53,
      "outputs": [
        {
          "output_type": "stream",
          "name": "stdout",
          "text": [
            "5\n",
            "Hello World\n",
            "(['Python', 'Programming'], ('SCS', 2013))\n",
            "['Python', 'Programming']\n",
            "('SCS', 2013)\n",
            "Python\n",
            "SCS\n"
          ]
        }
      ]
    },
    {
      "cell_type": "code",
      "metadata": {
        "id": "HF-AN94uvnPB",
        "colab": {
          "base_uri": "https://localhost:8080/"
        },
        "outputId": "fadec03e-6c85-4b13-e8c2-b37ded78a8c0"
      },
      "source": [
        "# Immutability \n",
        "print(tup)\n",
        "\n",
        "# tup[2] = 1.4\n",
        "# print(tup) <- type error가 발생한다. tuple은 item assignment를 support하지 않는다.\n",
        "\n",
        "# del tup[1]\n",
        "# print(tup) <- 에러 발생\n",
        "\n",
        "# 제거를 하고 싶을 경우 slicing을 하면된다. \n",
        "# 값을 변경하지 않기 위해서 한다. "
      ],
      "execution_count": 54,
      "outputs": [
        {
          "output_type": "stream",
          "name": "stdout",
          "text": [
            "('Hello World', 3, 2.5, ['Python', 'Programming'], ('SCS', 2013))\n"
          ]
        }
      ]
    },
    {
      "cell_type": "markdown",
      "metadata": {
        "id": "5kV3HUomwMUN"
      },
      "source": [
        "**Tuple Methods**\n",
        "\n",
        "Here are some tuple methods:\n",
        "- `.index()`: show the index of an element\n",
        "- `.count()`: counting how many elements there are in the tuple\n",
        "- `sum()`: sum all the elements in the tuple\n",
        "- `min()`: show the element with minimum value in the tuple\n",
        "- `max()`: show the element with maximum value in the tuple\n",
        "\n",
        "**note**: 'tuple' object has no attribute `.append(), .insert(), .clear(), .remove(), .reverse()`\n"
      ]
    },
    {
      "cell_type": "code",
      "metadata": {
        "id": "R-w83dd9wL0s"
      },
      "source": [
        "tup_1 = ('Hello', 'World', 31, 2.7, True, 'True', '31')\n",
        "\n",
        "# tup_1.reverse() <- 에러가 발생한다.\n",
        "# tup_1 "
      ],
      "execution_count": 56,
      "outputs": []
    },
    {
      "cell_type": "code",
      "metadata": {
        "id": "F1xBskr-xGsj",
        "colab": {
          "base_uri": "https://localhost:8080/"
        },
        "outputId": "55cbc629-29e0-4b00-f108-1e6e4780c8d1"
      },
      "source": [
        "# .index()\n",
        "tup_1 = ('Hello', 'World', 31, 2.7, True, 'True', '31')\n",
        "print(tup_1)\n",
        "\n",
        "print(tup_1.index(31))\n",
        "#tup_1.index(3.2) <- 존재하지 않는 값은 error가 발생한다. \n",
        "\n",
        "# .count()\n",
        "tup_1 = ('Hello', 'World', 31, 2.7, True, 'True', '31')\n",
        "print(tup_1)\n",
        "\n",
        "tup_1.count('True') # type 구분해야 함 1개!!"
      ],
      "execution_count": 58,
      "outputs": [
        {
          "output_type": "stream",
          "name": "stdout",
          "text": [
            "('Hello', 'World', 31, 2.7, True, 'True', '31')\n",
            "2\n",
            "('Hello', 'World', 31, 2.7, True, 'True', '31')\n"
          ]
        },
        {
          "output_type": "execute_result",
          "data": {
            "text/plain": [
              "1"
            ]
          },
          "metadata": {},
          "execution_count": 58
        }
      ]
    },
    {
      "cell_type": "code",
      "metadata": {
        "id": "8PFsbKcDxW7U",
        "colab": {
          "base_uri": "https://localhost:8080/"
        },
        "outputId": "01e104ec-62fd-497e-b181-fab1b67b0050"
      },
      "source": [
        "# sum(), min(), max()\n",
        "\n",
        "tup_1 = (3, 75, 6, 23, 3, 13)\n",
        "print(tup_1)\n",
        "\n",
        "print(sum(tup_1))\n",
        "print(min(tup_1))\n",
        "print(max(tup_1))"
      ],
      "execution_count": 59,
      "outputs": [
        {
          "output_type": "stream",
          "name": "stdout",
          "text": [
            "(3, 75, 6, 23, 3, 13)\n",
            "123\n",
            "3\n",
            "75\n"
          ]
        }
      ]
    },
    {
      "cell_type": "markdown",
      "metadata": {
        "id": "7Yp6Fc-ezNga"
      },
      "source": [
        "## Dictionaries (딕셔너리)\n",
        "\n",
        "Dictionary is a collection which is **ordered** (but ordering is not significant!!) and **changeable**. It has **no duplicate** items (**\"key-value\" pairs**).\n",
        "  - it is a data sequence that can hold multiple, different types of data as value\n",
        "\n",
        "  - represented inside **curly brackets \"{}\"**\n",
        "  - key-value pairs are separated with **commas \",\"**\n",
        "  - key and value is spearated by a **colon \":\"**\n",
        "  - **Syntax**\n",
        "  ```\n",
        "  dictionary_name = {key1:value1, key2:value2, ...}\n",
        "  ```\n",
        "  - can access each value with its corresponding key - it has no index number \n",
        "  ```\n",
        "  dict[key]\n",
        "  dict.get(key)\n",
        "  ```\n",
        "\n",
        "  - immutability: the *key* inside a dictionary cannot be changed and also should be unique    \n",
        "  - mutability: the *value* inside a dictionary is changeable "
      ]
    },
    {
      "cell_type": "code",
      "metadata": {
        "id": "VvpDzlxnxo2D",
        "colab": {
          "base_uri": "https://localhost:8080/"
        },
        "outputId": "b8c7581d-93b9-46b0-c509-c6e93ec4943e"
      },
      "source": [
        "# make dictionary {'name':'Kim', 'birth':['March',9], 'age':27}\n",
        "\n",
        "dct = {'name':'Kim', 'birth':['March',9], 'age':27}\n",
        "print(dct)\n",
        "\n",
        "dct = {'name':'Kim', 'birth':['March',9], 'age':27, 'name': 'James'} # what if there are duplicated keys?\n",
        "print(dct) # key값은 중복을 허용하지 않고 중복하면 마지막 값이 들어가게 된다. \n",
        "\n",
        "dct = {'name':'Kim', 'birth':['March',9], 'age':27, 'nickname': 'Kim'}\n",
        "print(dct) # 얘는 각각 독립적으로 나오게 된다. "
      ],
      "execution_count": 60,
      "outputs": [
        {
          "output_type": "stream",
          "name": "stdout",
          "text": [
            "{'name': 'Kim', 'birth': ['March', 9], 'age': 27}\n",
            "{'name': 'James', 'birth': ['March', 9], 'age': 27}\n",
            "{'name': 'Kim', 'birth': ['March', 9], 'age': 27, 'nickname': 'Kim'}\n"
          ]
        }
      ]
    },
    {
      "cell_type": "code",
      "metadata": {
        "id": "aK6u7ucH5iYX",
        "colab": {
          "base_uri": "https://localhost:8080/"
        },
        "outputId": "3801bfec-f92b-4aaa-e8dc-323418208f43"
      },
      "source": [
        "# access values using their keys or .get()\n",
        "\n",
        "print(dct['name'])\n",
        "print(dct.get('name'))\n",
        "\n",
        "print(dct['age'])\n",
        "print(dct['birth'])\n",
        "\n",
        "print(dct['birth'][0])\n",
        "print(dct['birth'][1])"
      ],
      "execution_count": 61,
      "outputs": [
        {
          "output_type": "stream",
          "name": "stdout",
          "text": [
            "Kim\n",
            "Kim\n",
            "27\n",
            "['March', 9]\n",
            "March\n",
            "9\n"
          ]
        }
      ]
    },
    {
      "cell_type": "code",
      "metadata": {
        "id": "YpSftYhA6smS",
        "colab": {
          "base_uri": "https://localhost:8080/"
        },
        "outputId": "7f852a32-1aa4-4c5e-9145-0b0c4ff0c6d4"
      },
      "source": [
        "# Add/Remove a key-value pair\n",
        "\n",
        "dct = {'name':'Kim', 'birth':['March',9], 'age':27}\n",
        "print(dct)\n",
        "\n",
        "# Add a pair ('year', 1995)\n",
        "dct['year'] = 1995\n",
        "print(dct)\n",
        "\n",
        "# Delete a pair ('age', 27)\n",
        "del dct['age']\n",
        "print(dct)\n",
        "\n",
        "# Change a value of a specific key-value pair \n",
        "dct['name'] = 'James'\n",
        "print(dct)"
      ],
      "execution_count": 62,
      "outputs": [
        {
          "output_type": "stream",
          "name": "stdout",
          "text": [
            "{'name': 'Kim', 'birth': ['March', 9], 'age': 27}\n",
            "{'name': 'Kim', 'birth': ['March', 9], 'age': 27, 'year': 1995}\n",
            "{'name': 'Kim', 'birth': ['March', 9], 'year': 1995}\n",
            "{'name': 'James', 'birth': ['March', 9], 'year': 1995}\n"
          ]
        }
      ]
    },
    {
      "cell_type": "markdown",
      "metadata": {
        "id": "WYXFhiZV69oT"
      },
      "source": [
        "**Dicionary Methods**\n",
        "\n",
        "Here are some dictionary methods:\n",
        "- `.keys()`: show the keys in a dictionary\n",
        "- `.values()`: show the values in a dictionary\n",
        "- `.items()`: create a (key, value) tuple \n",
        "\n",
        "- `.clear()`: clear the entire dictionary\n",
        "- `.copy()`: copy a dictionary\n",
        "- `.update()`: insert the specific items (key-value, or dictionary) to the dictionary\n",
        "\n"
      ]
    },
    {
      "cell_type": "code",
      "metadata": {
        "id": "exL1n8Jf5yq-",
        "colab": {
          "base_uri": "https://localhost:8080/"
        },
        "outputId": "d986fe83-f723-4328-cfea-cd3c67ae19ec"
      },
      "source": [
        "# Example: keys cannot be changed, but values can be changed\n",
        "dct = {'name':'Kim', 'birth':['March',9], 'age':27}\n",
        "print(dct)\n",
        "\n",
        "print(dct['age'])\n",
        "\n",
        "dct['age'] = 100\n",
        "print(dct)"
      ],
      "execution_count": 63,
      "outputs": [
        {
          "output_type": "stream",
          "name": "stdout",
          "text": [
            "{'name': 'Kim', 'birth': ['March', 9], 'age': 27}\n",
            "27\n",
            "{'name': 'Kim', 'birth': ['March', 9], 'age': 100}\n"
          ]
        }
      ]
    },
    {
      "cell_type": "code",
      "metadata": {
        "id": "uC2PaRiF6Fx0",
        "colab": {
          "base_uri": "https://localhost:8080/"
        },
        "outputId": "82d0e329-5b36-44b1-b41c-c0e4ac63a3c4"
      },
      "source": [
        "# Example: check a list of dictionary's keys and dictionary's values, and key-value pairs\n",
        "\n",
        "# .keys()\n",
        "print(dct.keys())\n",
        "print(type(dct.keys()))\n",
        "\n",
        "dct_key_list = list(dct.keys()) # 리스트로 변환해주기\n",
        "print(dct_key_list)"
      ],
      "execution_count": 64,
      "outputs": [
        {
          "output_type": "stream",
          "name": "stdout",
          "text": [
            "dict_keys(['name', 'birth', 'age'])\n",
            "<class 'dict_keys'>\n",
            "['name', 'birth', 'age']\n"
          ]
        }
      ]
    },
    {
      "cell_type": "code",
      "metadata": {
        "id": "JBJQOUSz6OWo",
        "colab": {
          "base_uri": "https://localhost:8080/"
        },
        "outputId": "b281eee8-a106-423c-fee9-079269dd6b18"
      },
      "source": [
        "# .values()\n",
        "print(dct.values())\n",
        "print(type(dct.values()))\n",
        "\n",
        "# .items()\n",
        "print(dct.items())\n",
        "print(type(dct.items()))"
      ],
      "execution_count": 65,
      "outputs": [
        {
          "output_type": "stream",
          "name": "stdout",
          "text": [
            "dict_values(['Kim', ['March', 9], 100])\n",
            "<class 'dict_values'>\n",
            "dict_items([('name', 'Kim'), ('birth', ['March', 9]), ('age', 100)])\n",
            "<class 'dict_items'>\n"
          ]
        }
      ]
    },
    {
      "cell_type": "code",
      "source": [
        "# in, not in\n",
        "print('name' in dct.keys()) # key 값 확인하기\n",
        "print('name' in dct)\n",
        "print('Name' in dct.keys())"
      ],
      "metadata": {
        "id": "H6iqSQKscRCJ",
        "colab": {
          "base_uri": "https://localhost:8080/"
        },
        "outputId": "0ff17fc3-fd5e-4094-d8e8-80afe9e781c1"
      },
      "execution_count": 66,
      "outputs": [
        {
          "output_type": "stream",
          "name": "stdout",
          "text": [
            "True\n",
            "True\n",
            "False\n"
          ]
        }
      ]
    },
    {
      "cell_type": "code",
      "metadata": {
        "id": "wuswWuGh6k5r",
        "colab": {
          "base_uri": "https://localhost:8080/"
        },
        "outputId": "818f141d-1716-4899-867b-dfb3ac4f3b18"
      },
      "source": [
        "# .copy()\n",
        "dct = {'name':'Kim', 'birth':['March',9], 'age':27}\n",
        "c_dct = dct.copy()\n",
        "print(c_dct)\n",
        "\n",
        "# .clear()\n",
        "dct = {'name':'Kim', 'birth':['March',9], 'age':27}\n",
        "dct.clear()\n",
        "print(dct)\n",
        "print(c_dct)\n",
        "\n",
        "# update \n",
        "dct = {'name':'Kim', 'birth':['March',9], 'age':27}\n",
        "dct_2 = {'year': 1995, 'Course': 'SCS2013'}\n",
        "\n",
        "dct.update(dct_2)\n",
        "print(dct)"
      ],
      "execution_count": 67,
      "outputs": [
        {
          "output_type": "stream",
          "name": "stdout",
          "text": [
            "{'name': 'Kim', 'birth': ['March', 9], 'age': 27}\n",
            "{}\n",
            "{'name': 'Kim', 'birth': ['March', 9], 'age': 27}\n",
            "{'name': 'Kim', 'birth': ['March', 9], 'age': 27, 'year': 1995, 'Course': 'SCS2013'}\n"
          ]
        }
      ]
    },
    {
      "cell_type": "markdown",
      "source": [
        "## Sets (집합)\n",
        "\n",
        "Set is a collection which is **unordered**, **unchangeable**, and **unindexed**. It has **no duplicate** items\n",
        "  - represented using **curly brackets \"{}\"**\n",
        "  - elements are separated with **commas \",\"**\n",
        "  - **Syntax**\n",
        "  ```\n",
        "  set_name = {element1, element2, ... }\n",
        "  ```\n",
        "\n",
        "  - immutability = unchangeable: the values inside a set cannot be changed, but we can add/remove items inside a set\n",
        "  - it does not have an index order - we can use `in` or `not in` to check an element is included in a set or not\n",
        "\n",
        "\n",
        "\n"
      ],
      "metadata": {
        "id": "xrJ3qNtxcy65"
      }
    },
    {
      "cell_type": "code",
      "source": [
        "# create a set\n",
        "set_1 = {'A', 2, 'B', 'C', 2, 3, 'C'} # duplicate\n",
        "print(set_1)\n",
        "\n",
        "# create an empty set: set()\n",
        "set_2 = {}\n",
        "print(set_2)\n",
        "print(type(set_2))\n",
        "\n",
        "set_2 = set() # 공집합 만들기\n",
        "print(set_2)\n",
        "print(type(set_2))"
      ],
      "metadata": {
        "id": "jCGWWj5hdaJu",
        "colab": {
          "base_uri": "https://localhost:8080/"
        },
        "outputId": "61b36350-3ed5-4231-a453-540564b5e398"
      },
      "execution_count": 68,
      "outputs": [
        {
          "output_type": "stream",
          "name": "stdout",
          "text": [
            "{2, 3, 'A', 'B', 'C'}\n",
            "{}\n",
            "<class 'dict'>\n",
            "set()\n",
            "<class 'set'>\n"
          ]
        }
      ]
    },
    {
      "cell_type": "code",
      "source": [
        "# accesing items in a set\n",
        "set_1 = {'A', 2, 'B', 'C', 2, 3, 'C'} # duplicate\n",
        "print(3 in set_1) # 해당 값이 집합에 있는지 없는지를 판단할 수 있다.\n",
        "print('a' in set_1)\n",
        "print('A' in set_1)"
      ],
      "metadata": {
        "id": "hyKUf1cQd5bB",
        "colab": {
          "base_uri": "https://localhost:8080/"
        },
        "outputId": "6af959ce-a8aa-44da-e635-bd3dae8dfbf5"
      },
      "execution_count": 69,
      "outputs": [
        {
          "output_type": "stream",
          "name": "stdout",
          "text": [
            "True\n",
            "False\n",
            "True\n"
          ]
        }
      ]
    },
    {
      "cell_type": "code",
      "source": [
        "# Add/Remove items\n",
        "set_1 = {'A', 2, 'B', 'C', 2, 3, 'C'}\n",
        "print(set_1)\n",
        "\n",
        "set_1.add(6) # 한번에 하나씩 추가\n",
        "print(set_1)\n",
        "\n",
        "set_1.update(['a','bb','ccc']) # 여러 개의 값을 한번에 추가\n",
        "print(set_1)\n",
        "\n",
        "set_1.remove('bb') # 값 제거하기\n",
        "print(set_1)"
      ],
      "metadata": {
        "id": "T87FnRGXeN44",
        "colab": {
          "base_uri": "https://localhost:8080/"
        },
        "outputId": "9f694012-0167-4714-f292-2ac64411bb10"
      },
      "execution_count": 70,
      "outputs": [
        {
          "output_type": "stream",
          "name": "stdout",
          "text": [
            "{2, 3, 'A', 'B', 'C'}\n",
            "{2, 3, 6, 'A', 'B', 'C'}\n",
            "{2, 3, 6, 'A', 'a', 'B', 'ccc', 'bb', 'C'}\n",
            "{2, 3, 6, 'A', 'a', 'B', 'ccc', 'C'}\n"
          ]
        }
      ]
    },
    {
      "cell_type": "markdown",
      "source": [
        "**Set Methods**\n",
        "\n",
        "Here are some set methods:\n",
        "- `A.union(B)` or `A | B`: 합집합\n",
        "- `A.intersection(B)` or `A & B`: 교집합\n",
        "- `A.difference(B)` or `A - B`: 차집합\n",
        "- `A.issuperset(B)` or `A >= B`: 포함관계\n",
        "\n",
        "\n"
      ],
      "metadata": {
        "id": "GOcpZiLsdaqk"
      }
    },
    {
      "cell_type": "code",
      "source": [
        "# set methods\n",
        "set_a = {1,2,3,5,7,8}\n",
        "set_b = {1,2,4,6,7}\n",
        "set_c = {1,2,3,5}\n",
        "\n",
        "print(set_a.union(set_b))\n",
        "print(set_a.intersection(set_b))\n",
        "print(set_a - set_b)\n",
        "print(set_a.issuperset(set_c)) # 참 거짓을 따진다.\n",
        "print(set_a >= set_c)"
      ],
      "metadata": {
        "id": "5e6guE-idab_",
        "colab": {
          "base_uri": "https://localhost:8080/"
        },
        "outputId": "14403b4f-1518-44ac-ae57-a75b9fa865a1"
      },
      "execution_count": 71,
      "outputs": [
        {
          "output_type": "stream",
          "name": "stdout",
          "text": [
            "{1, 2, 3, 4, 5, 6, 7, 8}\n",
            "{1, 2, 7}\n",
            "{8, 3, 5}\n",
            "True\n",
            "True\n"
          ]
        }
      ]
    },
    {
      "cell_type": "markdown",
      "source": [
        "## Exercises"
      ],
      "metadata": {
        "id": "hn34CDp9esjN"
      }
    },
    {
      "cell_type": "markdown",
      "source": [
        "### E-1\n",
        "Given the list `lst`, use some list methods to make the following result:\n",
        "\n",
        "```\n",
        "lst = ['Hello', 'World', 31, 2.7, True, 'True', '31']\n",
        "```\n",
        "\n",
        "Result:\n",
        "```\n",
        "['Hello', 'World', 31, 2.7, ('List', 'Python', 2022), True, '31', 20220401]\n",
        "```"
      ],
      "metadata": {
        "id": "mQ2MHORIeuEx"
      }
    },
    {
      "cell_type": "code",
      "source": [
        "lst = ['Hello', 'World', 31, 2.7, True, 'True', '31']\n",
        "print(lst)\n",
        "\n",
        "# your code here\n",
        "tup = ('List', 'Python', 2022)\n",
        "lst[4] = tup\n",
        "lst.append(20220401)\n",
        "\n",
        "# 선생님 코드\n",
        "lst.insert(4, tup)\n",
        "del lst[-3]\n",
        "lst.append(20220401)\n",
        "\n",
        "print(lst)"
      ],
      "metadata": {
        "id": "ZP6qLxruesGd",
        "colab": {
          "base_uri": "https://localhost:8080/"
        },
        "outputId": "6fa0589c-2636-4dd7-a078-657aaf57c857"
      },
      "execution_count": 2,
      "outputs": [
        {
          "output_type": "stream",
          "name": "stdout",
          "text": [
            "['Hello', 'World', 31, 2.7, True, 'True', '31']\n",
            "['Hello', 'World', 31, 2.7, ('List', 'Python', 2022), 'True', '31', 20220401]\n"
          ]
        }
      ]
    },
    {
      "cell_type": "markdown",
      "source": [
        "### E-2\n",
        "\n",
        "Given the list `lst`, \n",
        "```\n",
        "lst = [35, 7, 47, -7, 101, 2, 7, -13]\n",
        "```\n",
        "i) compute the *average value* of the elements inside the list (using some methods) \n",
        "\n",
        "ii) sorting the list in *descending order* and \n",
        "\n",
        "iii) insert the average value as the *first* element of the list.\n",
        "\n",
        "Result:\n",
        "```\n",
        "[22.375, 101, 47, 35, 7, 7, 2, -7, -13]\n",
        "```"
      ],
      "metadata": {
        "id": "AYhjv5UJf1_N"
      }
    },
    {
      "cell_type": "code",
      "source": [
        "lst = [35, 7, 47, -7, 101, 2, 7, -13]\n",
        "\n",
        "# your code here\n",
        "# compute the average value\n",
        "avrg = sum(lst)/len(lst)\n",
        "# print(avrg)\n",
        "\n",
        "# sorting in descending order\n",
        "lst.sort(reverse=True)\n",
        "# print(lst)\n",
        "\n",
        "# 선생님 코드\n",
        "lst.reverse()\n",
        "print(lst)\n",
        "\n",
        "# insert the average value as the first element\n",
        "lst.insert(0, avrg)\n",
        "\n",
        "print(lst)"
      ],
      "metadata": {
        "id": "DehRtg-Kf0Xs",
        "colab": {
          "base_uri": "https://localhost:8080/"
        },
        "outputId": "7e307545-9f04-4dfb-c4f7-ae8e63039f9d"
      },
      "execution_count": 20,
      "outputs": [
        {
          "output_type": "stream",
          "name": "stdout",
          "text": [
            "[22.375, 101, 47, 35, 7, 7, 2, -7, -13]\n"
          ]
        }
      ]
    },
    {
      "cell_type": "markdown",
      "source": [
        "### E-3\n",
        "\n",
        "What is the ratio of the minimum and maximum values in the tuple `tup`? \n",
        "```\n",
        "tup = (42, 33, 1002, 84, 10, 492)\n",
        "```\n",
        "For example, if minimum value is 2 and maximum value is 5, then the ratio is `2/5 = 0.4`. "
      ],
      "metadata": {
        "id": "_vVRnOvah4kI"
      }
    },
    {
      "cell_type": "code",
      "source": [
        "tup = (42, 33, 1002, 84, 10, 492)\n",
        "\n",
        "# your code here\n",
        "ratio = min(tup)/max(tup)\n",
        "\n",
        "print(ratio)"
      ],
      "metadata": {
        "id": "F2Yz-hzZh5Rj",
        "colab": {
          "base_uri": "https://localhost:8080/"
        },
        "outputId": "c8b13c9f-ce71-480f-9be6-6290263ba529"
      },
      "execution_count": 21,
      "outputs": [
        {
          "output_type": "stream",
          "name": "stdout",
          "text": [
            "0.00998003992015968\n"
          ]
        }
      ]
    },
    {
      "cell_type": "markdown",
      "source": [
        "### E-4\n",
        "\n",
        "Given the dictionary `dct`: \n",
        "```\n",
        "dct = {'name':'Peter', 'birth':[1995, 'April', 10], 'age':38, 'city':'Jeju'}\n",
        "```\n",
        "i) when the `'Peter'` was born (month)? \n",
        "\n",
        "ii) Change `'Peter'`'s born city from `'Jeju'` to `'Seoul'` \n",
        "\n",
        "iii) add a new key-value pair: key `'education'` and value `['Dongguk', 'SCS2013']`\n",
        "\n",
        "Result:\n",
        "```\n",
        "dct = {'name': 'Peter', 'birth': [1995, 'April', 10], 'age': 38, 'city': 'Seoul', 'education': ['Dongguk', 'SCS2013']}\n",
        "```"
      ],
      "metadata": {
        "id": "4l570BG0iUSM"
      }
    },
    {
      "cell_type": "code",
      "source": [
        "dct = {'name':'Peter', 'birth':[1995, 'April', 10], 'age':38, 'city':'Jeju'}\n",
        "\n",
        "# born month\n",
        "print(dct['birth'][1])\n",
        "\n",
        "\n",
        "# change Peter's born city to 'Seoul'\n",
        "dct['city'] = 'Seoul'\n",
        "\n",
        "\n",
        "# add new key-value\n",
        "dct['education']=['Dongguk', 'SCS2013']\n",
        "\n",
        "print(dct)"
      ],
      "metadata": {
        "id": "mZO_zfUKiU_Z",
        "colab": {
          "base_uri": "https://localhost:8080/"
        },
        "outputId": "d2162c88-5658-433e-8ef6-8927cb3f6e6e"
      },
      "execution_count": 73,
      "outputs": [
        {
          "output_type": "stream",
          "name": "stdout",
          "text": [
            "April\n",
            "{'name': 'Peter', 'birth': [1995, 'April', 10], 'age': 38, 'city': 'Seoul', 'education': ['Dongguk', 'SCS2013']}\n"
          ]
        }
      ]
    },
    {
      "cell_type": "markdown",
      "source": [
        "### E-5\n",
        "\n",
        "Given two sets `setA` and `setB`: \n",
        "```\n",
        "setA = {\"Apple\", 34, \"Banana\", True}\n",
        "setB = {\"Banana\", \"Melon\", False, -1.2, 34}\n",
        "```\n",
        "i) compute the union, intersection of two sets \n",
        "\n",
        "ii) check the superset relationship between union set and intersection set\n",
        "\n",
        "iii) compute a set that contains the items that only exist in the union set, and not in the intersection set"
      ],
      "metadata": {
        "id": "9mrk_L9MiVgb"
      }
    },
    {
      "cell_type": "code",
      "source": [
        "setA = {\"Apple\", 34, \"Banana\", True}\n",
        "setB = {\"Banana\", \"Melon\", False, -1.2, 34}\n",
        "print('setA:', setA)\n",
        "print('setB:', setB)\n",
        "\n",
        "# your code here\n",
        "# i) union and intersection\n",
        "uni = setA.union(setB)\n",
        "inters = setA.intersection(setB)\n",
        "\n",
        "# 이런 식으로 계산해도 된다.\n",
        "# setA | setB\n",
        "# setA & setB\n",
        "\n",
        "print(uni)\n",
        "print(inters)\n",
        "\n",
        "# ii) is union superset of intersection?\n",
        "aa = uni.issuperset(inters)\n",
        "print(aa)\n",
        "\n",
        "# iii) what is a set that contains the difference between union and intersection?\n",
        "bb = uni.difference(inters)\n",
        "print(bb)"
      ],
      "metadata": {
        "id": "LrgeyTtxiXe0",
        "colab": {
          "base_uri": "https://localhost:8080/"
        },
        "outputId": "c5c6e767-4c59-4fc9-9b6e-583f87d3d5a8"
      },
      "execution_count": 72,
      "outputs": [
        {
          "output_type": "stream",
          "name": "stdout",
          "text": [
            "setA: {'Banana', 'Apple', 34, True}\n",
            "setB: {False, 'Banana', 34, 'Melon', -1.2}\n",
            "{False, 'Banana', 'Apple', 34, True, 'Melon', -1.2}\n",
            "{'Banana', 34}\n",
            "True\n",
            "{False, True, 'Apple', 'Melon', -1.2}\n"
          ]
        }
      ]
    }
  ]
}