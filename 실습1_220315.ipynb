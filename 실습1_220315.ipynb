{
  "nbformat": 4,
  "nbformat_minor": 0,
  "metadata": {
    "colab": {
      "name": "실습1_220315.ipynb",
      "provenance": [],
      "authorship_tag": "ABX9TyMKzVlodHYe7o65lKkuvuhM",
      "include_colab_link": true
    },
    "kernelspec": {
      "name": "python3",
      "display_name": "Python 3"
    },
    "language_info": {
      "name": "python"
    }
  },
  "cells": [
    {
      "cell_type": "markdown",
      "metadata": {
        "id": "view-in-github",
        "colab_type": "text"
      },
      "source": [
        "<a href=\"https://colab.research.google.com/github/ohsoohyun/python_study/blob/main/%EC%8B%A4%EC%8A%B51_220315.ipynb\" target=\"_parent\"><img src=\"https://colab.research.google.com/assets/colab-badge.svg\" alt=\"Open In Colab\"/></a>"
      ]
    },
    {
      "cell_type": "code",
      "execution_count": null,
      "metadata": {
        "id": "91Z6Le0wDYo7"
      },
      "outputs": [],
      "source": [
        ""
      ]
    }
  ]
}