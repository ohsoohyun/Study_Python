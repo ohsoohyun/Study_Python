{
  "nbformat": 4,
  "nbformat_minor": 0,
  "metadata": {
    "colab": {
      "name": "SCS2013_Exercise_02.ipynb",
      "provenance": [],
      "collapsed_sections": [],
      "toc_visible": true,
      "include_colab_link": true
    },
    "kernelspec": {
      "name": "python3",
      "display_name": "Python 3"
    },
    "language_info": {
      "name": "python"
    }
  },
  "cells": [
    {
      "cell_type": "markdown",
      "metadata": {
        "id": "view-in-github",
        "colab_type": "text"
      },
      "source": [
        "<a href=\"https://colab.research.google.com/github/ohsoohyun/python_study/blob/main/SCS2013_Exercise_02.ipynb\" target=\"_parent\"><img src=\"https://colab.research.google.com/assets/colab-badge.svg\" alt=\"Open In Colab\"/></a>"
      ]
    },
    {
      "cell_type": "markdown",
      "metadata": {
        "id": "EzZiRhCEg1JC"
      },
      "source": [
        "# SCS2013 Exercise 02 (2022 Spring)\n",
        "\n",
        "**This exercise notebook will go through the basic data types in Python:**\n",
        "\n",
        "* Numbers (Numeric)\n",
        "  * Integers (정수형)\n",
        "  * Floating Points (실수형)\n",
        "* Strings (문자열)\n",
        "* Booleans (불)\n",
        "\n"
      ]
    },
    {
      "cell_type": "markdown",
      "metadata": {
        "id": "SILcODfCinqu"
      },
      "source": [
        "## ``print()`` and Comments (``#``)\n",
        "\n",
        "Before start, let's print 'Hello'. \n",
        "\n",
        "**``print()``** is used to display information to the user: It does not change values, variables, functions - just simply displays.\n",
        "\n",
        "* Usage ``print()``: if we want to print a text, it should be in quotes `` '' `` or `` \"\"``.\n",
        "\n",
        "* We can print multiple values by separating them with commans `,`.\n",
        "\n",
        "* ``#`` symbol is used to put **comments** in your code. The comments don't get executed. "
      ]
    },
    {
      "cell_type": "code",
      "metadata": {
        "colab": {
          "base_uri": "https://localhost:8080/"
        },
        "id": "zjwZhgjJilkN",
        "outputId": "96d22346-64a8-4c7c-bff1-5e85ce91ab5a"
      },
      "source": [
        "print('Hello!')\n",
        "print('2022 Spring - SCS2013 Exercise 02')\n",
        "print('2022 Spring', 'Hello!', 'SCS2013', 'Exercise 02')"
      ],
      "execution_count": null,
      "outputs": [
        {
          "output_type": "stream",
          "name": "stdout",
          "text": [
            "Hello!\n",
            "2022 Spring - SCS2013 Exercise 02\n",
            "2022 Spring Hello! SCS2013 Exercise 02\n"
          ]
        }
      ]
    },
    {
      "cell_type": "markdown",
      "metadata": {
        "id": "Zz0wt1-VhNl4"
      },
      "source": [
        "## Variables (변수)\n",
        "\n",
        "**Variable** is a space in the computer's memory where we can store data (number, text, ...). We use variable in Python to hold and manipulate values. Python does not require to declare a variable before use it. All we need is **assign** a variable a value. (**dynamically typed**)\n",
        "\n",
        "Variable *name* & Variable *value* \n",
        "\n",
        "All we need is to provide a variable name and assign it some value: using **'='** operator.\n",
        "  * e.g.: ``my_num = 123``\n",
        "  * A variable named ``my_num`` was created\n",
        "  * The value ``123`` was assigned to the variable ``my_num``"
      ]
    },
    {
      "cell_type": "code",
      "metadata": {
        "id": "SYITcvmbgfJ6"
      },
      "source": [
        "my_num = 123"
      ],
      "execution_count": null,
      "outputs": []
    },
    {
      "cell_type": "code",
      "metadata": {
        "colab": {
          "base_uri": "https://localhost:8080/"
        },
        "id": "NtugJmkehfyi",
        "outputId": "9c4ba6f6-b3da-47de-d094-ae88adfba446"
      },
      "source": [
        "my_num"
      ],
      "execution_count": null,
      "outputs": [
        {
          "output_type": "execute_result",
          "data": {
            "text/plain": [
              "123"
            ]
          },
          "metadata": {},
          "execution_count": 3
        }
      ]
    },
    {
      "cell_type": "code",
      "metadata": {
        "colab": {
          "base_uri": "https://localhost:8080/"
        },
        "id": "sSOiyYrAhgS2",
        "outputId": "82ad6d37-697f-44d7-a3a4-275e85e5c4dc"
      },
      "source": [
        "my_num + my_num"
      ],
      "execution_count": null,
      "outputs": [
        {
          "output_type": "execute_result",
          "data": {
            "text/plain": [
              "246"
            ]
          },
          "metadata": {},
          "execution_count": 4
        }
      ]
    },
    {
      "cell_type": "code",
      "metadata": {
        "colab": {
          "base_uri": "https://localhost:8080/"
        },
        "id": "5z7avZQnhhba",
        "outputId": "a43edcb3-ff33-42c2-9aad-788f0fdf2534"
      },
      "source": [
        "print(my_num)"
      ],
      "execution_count": null,
      "outputs": [
        {
          "output_type": "stream",
          "name": "stdout",
          "text": [
            "123\n"
          ]
        }
      ]
    },
    {
      "cell_type": "code",
      "metadata": {
        "id": "BPf9BlnbhiFp"
      },
      "source": [
        "my_num = 12.3"
      ],
      "execution_count": null,
      "outputs": []
    },
    {
      "cell_type": "code",
      "metadata": {
        "colab": {
          "base_uri": "https://localhost:8080/"
        },
        "id": "RW8S6Ukphj9U",
        "outputId": "605004ac-18a5-4f71-97d3-07d92d65ee0b"
      },
      "source": [
        "my_num"
      ],
      "execution_count": null,
      "outputs": [
        {
          "output_type": "execute_result",
          "data": {
            "text/plain": [
              "12.3"
            ]
          },
          "metadata": {},
          "execution_count": 7
        }
      ]
    },
    {
      "cell_type": "code",
      "source": [
        "my_num1, my_num2 = 3, 5.6\n",
        "print(my_num1, my_num2)"
      ],
      "metadata": {
        "colab": {
          "base_uri": "https://localhost:8080/"
        },
        "id": "gmtUi9lm6GUS",
        "outputId": "3482ec0c-6161-4d17-b51f-7bc9130bd4fd"
      },
      "execution_count": null,
      "outputs": [
        {
          "output_type": "stream",
          "name": "stdout",
          "text": [
            "3 5.6\n"
          ]
        }
      ]
    },
    {
      "cell_type": "markdown",
      "metadata": {
        "id": "U7cAm4nZx7vw"
      },
      "source": [
        "### Variable names \n",
        "\n",
        "Python allows you to name variables to your liking, as long as the names follow the rules:\n",
        "\n",
        "* variable names may contain letters, digits (0-9) or the underscore character `_`\n",
        "* variable names must begin with a letter from A-Z or the underscore `_`\n",
        "* variable names may not be a keyword in Python: e.g., `and`\n",
        "* Python's *keyword(예약어)* list includes:\n",
        "\n",
        "``and, as, if, for, import, in, is, break, True, while, ... ``\n"
      ]
    },
    {
      "cell_type": "code",
      "metadata": {
        "colab": {
          "base_uri": "https://localhost:8080/"
        },
        "id": "dVvWELrRhkZw",
        "outputId": "6a1c5013-f677-4974-dd6b-852a9fa27851"
      },
      "source": [
        "fish = 1\n",
        "fish"
      ],
      "execution_count": null,
      "outputs": [
        {
          "output_type": "execute_result",
          "data": {
            "text/plain": [
              "1"
            ]
          },
          "metadata": {},
          "execution_count": 9
        }
      ]
    },
    {
      "cell_type": "code",
      "metadata": {
        "colab": {
          "base_uri": "https://localhost:8080/"
        },
        "id": "8jIp0esoDs8K",
        "outputId": "e5b7146e-db59-4249-f312-857b24c1730b"
      },
      "source": [
        "a = 2\n",
        "a"
      ],
      "execution_count": null,
      "outputs": [
        {
          "output_type": "execute_result",
          "data": {
            "text/plain": [
              "2"
            ]
          },
          "metadata": {},
          "execution_count": 10
        }
      ]
    },
    {
      "cell_type": "code",
      "metadata": {
        "colab": {
          "base_uri": "https://localhost:8080/"
        },
        "id": "pG3cyYH0Dt1d",
        "outputId": "168c2d5c-094f-4c2f-8eef-bfd3fb4bb74a"
      },
      "source": [
        "_uvar_ = 3\n",
        "_uvar_"
      ],
      "execution_count": null,
      "outputs": [
        {
          "output_type": "execute_result",
          "data": {
            "text/plain": [
              "3"
            ]
          },
          "metadata": {},
          "execution_count": 11
        }
      ]
    },
    {
      "cell_type": "code",
      "metadata": {
        "colab": {
          "base_uri": "https://localhost:8080/"
        },
        "id": "JG-05-STDzbY",
        "outputId": "bd80b586-3cd2-4238-c0ae-35a3bac7fb7c"
      },
      "source": [
        "a21 = 4\n",
        "a21"
      ],
      "execution_count": null,
      "outputs": [
        {
          "output_type": "execute_result",
          "data": {
            "text/plain": [
              "4"
            ]
          },
          "metadata": {},
          "execution_count": 12
        }
      ]
    },
    {
      "cell_type": "code",
      "metadata": {
        "colab": {
          "base_uri": "https://localhost:8080/"
        },
        "id": "zhjLrsdZD1NK",
        "outputId": "92b4d726-4739-4d64-fcaf-db7ba5112f73"
      },
      "source": [
        "long_var_name_is_okay = 5\n",
        "long_var_name_is_okay"
      ],
      "execution_count": null,
      "outputs": [
        {
          "output_type": "execute_result",
          "data": {
            "text/plain": [
              "5"
            ]
          },
          "metadata": {},
          "execution_count": 13
        }
      ]
    },
    {
      "cell_type": "code",
      "metadata": {
        "colab": {
          "base_uri": "https://localhost:8080/",
          "height": 35
        },
        "id": "olVPcpcAD_h2",
        "outputId": "0bc302b0-951a-4b72-b969-2a1a319b2863"
      },
      "source": [
        "RemoteAddress = '1.2.3.4'\n",
        "RemoteAddress"
      ],
      "execution_count": null,
      "outputs": [
        {
          "output_type": "execute_result",
          "data": {
            "text/plain": [
              "'1.2.3.4'"
            ],
            "application/vnd.google.colaboratory.intrinsic+json": {
              "type": "string"
            }
          },
          "metadata": {},
          "execution_count": 14
        }
      ]
    },
    {
      "cell_type": "code",
      "metadata": {
        "colab": {
          "base_uri": "https://localhost:8080/",
          "height": 133
        },
        "id": "4QKICLJ8EENb",
        "outputId": "3d4371bf-b14d-4cb8-b33e-9ef69cf8494d"
      },
      "source": [
        "`ticked = 1\n",
        "`ticked"
      ],
      "execution_count": null,
      "outputs": [
        {
          "output_type": "error",
          "ename": "SyntaxError",
          "evalue": "ignored",
          "traceback": [
            "\u001b[0;36m  File \u001b[0;32m\"<ipython-input-15-17ecb19b401b>\"\u001b[0;36m, line \u001b[0;32m1\u001b[0m\n\u001b[0;31m    `ticked = 1\u001b[0m\n\u001b[0m    ^\u001b[0m\n\u001b[0;31mSyntaxError\u001b[0m\u001b[0;31m:\u001b[0m invalid syntax\n"
          ]
        }
      ]
    },
    {
      "cell_type": "code",
      "metadata": {
        "id": "TD8cPDNXEMvG"
      },
      "source": [
        "21a = 'start with num'\n",
        "21a"
      ],
      "execution_count": null,
      "outputs": []
    },
    {
      "cell_type": "code",
      "metadata": {
        "id": "IoB_l451EWz2"
      },
      "source": [
        "and = 21\n",
        "and"
      ],
      "execution_count": null,
      "outputs": []
    },
    {
      "cell_type": "markdown",
      "metadata": {
        "id": "qYAH5OxnGuO4"
      },
      "source": [
        "## Data Types (자료형)\n",
        "\n",
        "Python supports numerical data types: \n",
        "* **integer (정수형)**: number without decimal point\n",
        "* **floating point (실수형)**: number with decimal point\n",
        "\n",
        "and also supports text data type:\n",
        "* **string (문자열)**: text\n",
        "\n",
        "and boolean data type:\n",
        "* **bool (불)**: conditional statements `True` (참) / `False` (거짓)\n",
        "\n",
        "Python tracks the **type** of the value assigned to a variable. \n",
        "\n",
        "* ``type()``: Check what the value type is\n",
        "\n",
        " "
      ]
    },
    {
      "cell_type": "code",
      "metadata": {
        "colab": {
          "base_uri": "https://localhost:8080/"
        },
        "id": "c-lUDr3qF8tT",
        "outputId": "f06b1f28-6264-4f4d-9136-8dcc907ad02b"
      },
      "source": [
        "x = 12\n",
        "print(type(x))"
      ],
      "execution_count": null,
      "outputs": [
        {
          "output_type": "stream",
          "name": "stdout",
          "text": [
            "<class 'int'>\n"
          ]
        }
      ]
    },
    {
      "cell_type": "code",
      "metadata": {
        "colab": {
          "base_uri": "https://localhost:8080/"
        },
        "id": "i1obUDfpfgy2",
        "outputId": "d4d588be-16be-4d58-e1d5-ee621400a564"
      },
      "source": [
        "x = 12.0\n",
        "print(type(x))"
      ],
      "execution_count": null,
      "outputs": [
        {
          "output_type": "stream",
          "name": "stdout",
          "text": [
            "<class 'float'>\n"
          ]
        }
      ]
    },
    {
      "cell_type": "code",
      "metadata": {
        "colab": {
          "base_uri": "https://localhost:8080/"
        },
        "id": "7zI5Ar6nfdaR",
        "outputId": "286f05d8-ad3a-4760-f896-dde4f68280fd"
      },
      "source": [
        "x = 'Hello'\n",
        "print(type(x))"
      ],
      "execution_count": null,
      "outputs": [
        {
          "output_type": "stream",
          "name": "stdout",
          "text": [
            "<class 'str'>\n"
          ]
        }
      ]
    },
    {
      "cell_type": "code",
      "metadata": {
        "colab": {
          "base_uri": "https://localhost:8080/"
        },
        "id": "UHuWpbYjfkB0",
        "outputId": "be03810b-6fe9-4b02-a42d-8ecc6004ddd6"
      },
      "source": [
        "x = False\n",
        "print(type(x))"
      ],
      "execution_count": null,
      "outputs": [
        {
          "output_type": "stream",
          "name": "stdout",
          "text": [
            "<class 'bool'>\n"
          ]
        }
      ]
    },
    {
      "cell_type": "markdown",
      "metadata": {
        "id": "yBr-7dwzhW1X"
      },
      "source": [
        "The way of converting variables to different types is to use ``int()``, ``float()`` or ``str()``. "
      ]
    },
    {
      "cell_type": "code",
      "metadata": {
        "colab": {
          "base_uri": "https://localhost:8080/"
        },
        "id": "CIDnYckGfmLm",
        "outputId": "da3e8a83-df2c-4b17-92d5-5f800aa02587"
      },
      "source": [
        "x = 12\n",
        "print(type(x))\n",
        "print(x)\n",
        "\n",
        "print(type(float(x)))\n",
        "print(float(x))"
      ],
      "execution_count": null,
      "outputs": [
        {
          "output_type": "stream",
          "name": "stdout",
          "text": [
            "<class 'int'>\n",
            "12\n",
            "<class 'float'>\n",
            "12.0\n"
          ]
        }
      ]
    },
    {
      "cell_type": "code",
      "metadata": {
        "colab": {
          "base_uri": "https://localhost:8080/"
        },
        "id": "Z-doiLOthmhk",
        "outputId": "6dc4ada4-3e15-407f-9e72-08b740d4752d"
      },
      "source": [
        "x = 12\n",
        "print(type(x))\n",
        "print(x)\n",
        "\n",
        "print(type(str(x)))\n",
        "print(str(x))"
      ],
      "execution_count": null,
      "outputs": [
        {
          "output_type": "stream",
          "name": "stdout",
          "text": [
            "<class 'int'>\n",
            "12\n",
            "<class 'str'>\n",
            "12\n"
          ]
        }
      ]
    },
    {
      "cell_type": "code",
      "metadata": {
        "colab": {
          "base_uri": "https://localhost:8080/",
          "height": 258
        },
        "id": "htYTfEuohuqe",
        "outputId": "cb0ba793-ce4d-4f75-a4f0-76bc67fdfaea"
      },
      "source": [
        "x = 'hello'\n",
        "print(type(x))\n",
        "print(x)\n",
        "\n",
        "print(type(float(x)))\n",
        "print(float(x))"
      ],
      "execution_count": null,
      "outputs": [
        {
          "output_type": "stream",
          "name": "stdout",
          "text": [
            "<class 'str'>\n",
            "hello\n"
          ]
        },
        {
          "output_type": "error",
          "ename": "ValueError",
          "evalue": "ignored",
          "traceback": [
            "\u001b[0;31m---------------------------------------------------------------------------\u001b[0m",
            "\u001b[0;31mValueError\u001b[0m                                Traceback (most recent call last)",
            "\u001b[0;32m<ipython-input-22-c5d133e743a9>\u001b[0m in \u001b[0;36m<module>\u001b[0;34m()\u001b[0m\n\u001b[1;32m      3\u001b[0m \u001b[0mprint\u001b[0m\u001b[0;34m(\u001b[0m\u001b[0mx\u001b[0m\u001b[0;34m)\u001b[0m\u001b[0;34m\u001b[0m\u001b[0;34m\u001b[0m\u001b[0m\n\u001b[1;32m      4\u001b[0m \u001b[0;34m\u001b[0m\u001b[0m\n\u001b[0;32m----> 5\u001b[0;31m \u001b[0mprint\u001b[0m\u001b[0;34m(\u001b[0m\u001b[0mtype\u001b[0m\u001b[0;34m(\u001b[0m\u001b[0mfloat\u001b[0m\u001b[0;34m(\u001b[0m\u001b[0mx\u001b[0m\u001b[0;34m)\u001b[0m\u001b[0;34m)\u001b[0m\u001b[0;34m)\u001b[0m\u001b[0;34m\u001b[0m\u001b[0;34m\u001b[0m\u001b[0m\n\u001b[0m\u001b[1;32m      6\u001b[0m \u001b[0mprint\u001b[0m\u001b[0;34m(\u001b[0m\u001b[0mfloat\u001b[0m\u001b[0;34m(\u001b[0m\u001b[0mx\u001b[0m\u001b[0;34m)\u001b[0m\u001b[0;34m)\u001b[0m\u001b[0;34m\u001b[0m\u001b[0;34m\u001b[0m\u001b[0m\n",
            "\u001b[0;31mValueError\u001b[0m: could not convert string to float: 'hello'"
          ]
        }
      ]
    },
    {
      "cell_type": "code",
      "metadata": {
        "colab": {
          "base_uri": "https://localhost:8080/"
        },
        "id": "zy2Yi5OzhzKL",
        "outputId": "98ac28b3-d8bc-47b0-d8dd-fe686dd18475"
      },
      "source": [
        "x = '12'\n",
        "print(type(x))\n",
        "print(x)\n",
        "\n",
        "print(type(float(x)))\n",
        "print(float(x))"
      ],
      "execution_count": null,
      "outputs": [
        {
          "output_type": "stream",
          "name": "stdout",
          "text": [
            "<class 'str'>\n",
            "12\n",
            "<class 'float'>\n",
            "12.0\n"
          ]
        }
      ]
    },
    {
      "cell_type": "code",
      "metadata": {
        "colab": {
          "base_uri": "https://localhost:8080/"
        },
        "id": "J9-y-YZv0lY0",
        "outputId": "70adbab7-f656-4881-a209-6e40ec1eea3c"
      },
      "source": [
        "x = True\n",
        "print(type(x))\n",
        "print(x)\n",
        "\n",
        "print(type(int(x)))\n",
        "print(int(x))\n",
        "\n",
        "x = False\n",
        "print(type(x))\n",
        "print(x)\n",
        "\n",
        "print(type(int(x)))\n",
        "print(int(x))"
      ],
      "execution_count": null,
      "outputs": [
        {
          "output_type": "stream",
          "name": "stdout",
          "text": [
            "<class 'bool'>\n",
            "True\n",
            "<class 'int'>\n",
            "1\n",
            "<class 'bool'>\n",
            "False\n",
            "<class 'int'>\n",
            "0\n"
          ]
        }
      ]
    },
    {
      "cell_type": "code",
      "metadata": {
        "colab": {
          "base_uri": "https://localhost:8080/"
        },
        "id": "vRYk7b60xx1o",
        "outputId": "caee85f8-b9b8-4fd4-f40d-db3ede1831d9"
      },
      "source": [
        "a = 123\n",
        "b = '20'\n",
        "print(a + int(b))\n",
        "print(a + float(b))"
      ],
      "execution_count": null,
      "outputs": [
        {
          "output_type": "stream",
          "name": "stdout",
          "text": [
            "143\n",
            "143.0\n"
          ]
        }
      ]
    },
    {
      "cell_type": "markdown",
      "metadata": {
        "id": "cnFa10fniX__"
      },
      "source": [
        "## Exercises - Print, Variable and Data Types\n",
        "\n",
        "Let's check out some exercises that will help you understand **print, variables and data types in Python** better."
      ]
    },
    {
      "cell_type": "markdown",
      "metadata": {
        "id": "X0bS5JLeihxH"
      },
      "source": [
        "### E-1\n",
        "\n",
        "Try to print a sentence \"Hello SCS2013 Students! Good to see you!!\" directly - using `print()` function."
      ]
    },
    {
      "cell_type": "code",
      "metadata": {
        "colab": {
          "base_uri": "https://localhost:8080/"
        },
        "id": "qId3QwQbh4GV",
        "outputId": "0642f0e5-4e02-4c6d-f9c2-9be54ee66e9b"
      },
      "source": [
        "# your code here\n",
        "print(\"Hello SCS2013 Students! Good to see you!!\")"
      ],
      "execution_count": 1,
      "outputs": [
        {
          "output_type": "stream",
          "name": "stdout",
          "text": [
            "Hello SCS2013 Students! Good to see you!!\n"
          ]
        }
      ]
    },
    {
      "cell_type": "markdown",
      "metadata": {
        "id": "Pxu8s55NljnD"
      },
      "source": [
        "### E-2\n",
        "\n",
        "Assign `3` to variable `num_of_boxes`, and see what sentence is printed."
      ]
    },
    {
      "cell_type": "code",
      "metadata": {
        "colab": {
          "base_uri": "https://localhost:8080/"
        },
        "id": "FP_xuTPZk_Yz",
        "outputId": "cc393d05-414e-49da-d64c-12efdefdf681"
      },
      "source": [
        "# your code here\n",
        "num_of_boxes = 3\n",
        "print('There are', num_of_boxes, 'boxes on the table.')"
      ],
      "execution_count": 2,
      "outputs": [
        {
          "output_type": "stream",
          "name": "stdout",
          "text": [
            "There are 3 boxes on the table.\n"
          ]
        }
      ]
    },
    {
      "cell_type": "markdown",
      "metadata": {
        "id": "TOMSbZiioPnD"
      },
      "source": [
        "### E-3\n",
        "\n",
        "Now assign a new value `5.3` to the variable `num_of_boxes` and print the value."
      ]
    },
    {
      "cell_type": "code",
      "metadata": {
        "colab": {
          "base_uri": "https://localhost:8080/"
        },
        "id": "o_Ny_nH3oLw-",
        "outputId": "f6f340ec-1103-4209-b3ae-6b8d78b194ad"
      },
      "source": [
        "# your code here\n",
        "num_of_boxes = 5.3\n",
        "print('Now there are', num_of_boxes, 'boxes on the table?!')"
      ],
      "execution_count": 3,
      "outputs": [
        {
          "output_type": "stream",
          "name": "stdout",
          "text": [
            "Now there are 5.3 boxes on the table?!\n"
          ]
        }
      ]
    },
    {
      "cell_type": "markdown",
      "metadata": {
        "id": "9F6RMtAcotz_"
      },
      "source": [
        "### E-4\n",
        "\n",
        "Let's check out **integer** data type. Assign any integer value to the variable `my_int` and print it."
      ]
    },
    {
      "cell_type": "code",
      "metadata": {
        "colab": {
          "base_uri": "https://localhost:8080/"
        },
        "id": "CpLiaqnpoqsc",
        "outputId": "70e7f746-193a-4fac-867b-63883519a708"
      },
      "source": [
        "# your code here\n",
        "my_int = 123\n",
        "print('The value of my_int is', my_int)"
      ],
      "execution_count": 4,
      "outputs": [
        {
          "output_type": "stream",
          "name": "stdout",
          "text": [
            "The value of my_int is 123\n"
          ]
        }
      ]
    },
    {
      "cell_type": "markdown",
      "metadata": {
        "id": "IM-WOx06yiSu"
      },
      "source": [
        "### E-5\n",
        "\n",
        "Now check out **string** data type. Assign any string (a short sentence or a couple of words) to the variable `my_str` and print it. \n",
        "\n",
        "* You need to use the quote to make the string data."
      ]
    },
    {
      "cell_type": "code",
      "metadata": {
        "colab": {
          "base_uri": "https://localhost:8080/"
        },
        "id": "YjikoHx4qKTg",
        "outputId": "caf7fb86-881a-4412-a306-381e0ada2096"
      },
      "source": [
        "# your code here\n",
        "my_str = 'Exercise for string data type'\n",
        "print(my_str)"
      ],
      "execution_count": 5,
      "outputs": [
        {
          "output_type": "stream",
          "name": "stdout",
          "text": [
            "Exercise for string data type\n"
          ]
        }
      ]
    },
    {
      "cell_type": "markdown",
      "metadata": {
        "id": "jh3XsIgLy-08"
      },
      "source": [
        "### E-6\n",
        "\n",
        "Now, let's try to see what happens after assigning a new value (even a different type) to the existing variable. "
      ]
    },
    {
      "cell_type": "code",
      "metadata": {
        "colab": {
          "base_uri": "https://localhost:8080/"
        },
        "id": "a2I9bt5uy87A",
        "outputId": "f374f2ff-da12-4fae-8179-73872a746e20"
      },
      "source": [
        "my_var = 1\n",
        "\n",
        "# print the type of the variable `my_var` \n",
        "print('The original value is', my_var, 'and the type is', type(my_var))\n",
        "\n",
        "# assign any float number to the variable `my_var`\n",
        "my_var = float(my_var)\n",
        "\n",
        "# print the new value and the type of the variable `my_var`\n",
        "print('The updated value is', my_var, 'and the type is', type(my_var))\n",
        "\n",
        "# assign any word to the variable `my_var`\n",
        "my_var = 'Python'\n",
        "print('The updated value is', my_var, 'and the type is', type(my_var))\n",
        "\n",
        "# assign True or False to the variable `my_var` and print it\n",
        "my_var = True\n",
        "print('The updated value is', my_var, 'and the type is', type(my_var))"
      ],
      "execution_count": 6,
      "outputs": [
        {
          "output_type": "stream",
          "name": "stdout",
          "text": [
            "The original value is 1 and the type is <class 'int'>\n",
            "The updated value is 1.0 and the type is <class 'float'>\n",
            "The updated value is Python and the type is <class 'str'>\n",
            "The updated value is True and the type is <class 'bool'>\n"
          ]
        }
      ]
    },
    {
      "cell_type": "markdown",
      "metadata": {
        "id": "W1BFfX4Dq87i"
      },
      "source": [
        "## Python Operators \n",
        "\n",
        "Let's play with Python Operators!\n",
        "\n",
        "* **Assignment** operators: assigning values to variables \n",
        "\n",
        "* **Arithmetic** operators: mathematics operators \n",
        "\n",
        "* **Comparison** operators: constructing a conditional statement \n",
        "\n",
        "* **Membership** operators: checking if a group of values contains a sub-value \n",
        "\n",
        "....\n",
        "\n",
        "\n"
      ]
    },
    {
      "cell_type": "markdown",
      "metadata": {
        "id": "3nU6Z9wvsVYy"
      },
      "source": [
        "### Assignment Operators\n",
        "\n",
        "Let's start with *assignment* operators:\n",
        "\n",
        "* `=`: variable name goes on the left side & the value being assigned goes to the right side\n",
        "\n"
      ]
    },
    {
      "cell_type": "code",
      "metadata": {
        "colab": {
          "base_uri": "https://localhost:8080/",
          "height": 35
        },
        "id": "Rrc5vUN8yDoI",
        "outputId": "31e148d6-d729-45fc-c587-643794db620b"
      },
      "source": [
        "planet = 'Earth'\n",
        "planet"
      ],
      "execution_count": null,
      "outputs": [
        {
          "output_type": "execute_result",
          "data": {
            "text/plain": [
              "'Earth'"
            ],
            "application/vnd.google.colaboratory.intrinsic+json": {
              "type": "string"
            }
          },
          "metadata": {},
          "execution_count": 32
        }
      ]
    },
    {
      "cell_type": "markdown",
      "metadata": {
        "id": "ipDtgwMhst3I"
      },
      "source": [
        "### Arithmetic Operators \n",
        "\n",
        "Used for most basic mathematical operations \n",
        "\n",
        "* `+` Addition: adds values \n",
        "* `-` Subtraction: subtracts values\n",
        "* `*` Multiplication: multiplies values\n",
        "* `/` Division (float): divides the first value by the second value and returns value with decimals\n",
        "* `//` Division (floor): divide two values and returns integers without decimals\n",
        "* `%` Modulus: gives the remainder of a division result\n",
        "* `**` Power: raises the first value to the power of second value "
      ]
    },
    {
      "cell_type": "code",
      "metadata": {
        "colab": {
          "base_uri": "https://localhost:8080/"
        },
        "id": "IeHK7HImyOsm",
        "outputId": "7535ef4a-937c-432b-e756-641014236366"
      },
      "source": [
        "a = 5\n",
        "b = 3\n",
        "\n",
        "c = a + b\n",
        "d = a - b\n",
        "e = a * b\n",
        "f = a / b\n",
        "g = a // b\n",
        "h = a % b\n",
        "i = a ** b\n",
        "\n",
        "print('a is', a, 'and b is', b)\n",
        "print('a + b is', c)\n",
        "print('a - b is', d)\n",
        "print('a * b is', e)\n",
        "print('a / b is', f)\n",
        "print('a // b is', g)\n",
        "print('a % b is', h)\n",
        "print('a ** b is', i)"
      ],
      "execution_count": null,
      "outputs": [
        {
          "output_type": "stream",
          "name": "stdout",
          "text": [
            "a is 5 and b is 3\n",
            "a + b is 8\n",
            "a - b is 2\n",
            "a * b is 15\n",
            "a / b is 1.6666666666666667\n",
            "a // b is 1\n",
            "a % b is 2\n",
            "a ** b is 125\n"
          ]
        }
      ]
    },
    {
      "cell_type": "markdown",
      "metadata": {
        "id": "ZhOs09XxuIvK"
      },
      "source": [
        "### Comparison Operators \n",
        "\n",
        "* `==` Equal: returns True if left side is equal to the right side\n",
        "* `!=` Not equal: returns True if left side is not equal to right side\n",
        "* `>` Greater than: returns True if left side is grater than the right side\n",
        "* `<` Less than: returns True if left side is less than the right side\n",
        "* `>=` Greater than or equal to: returns True if left side is grater than or equal to the right side\n",
        "* `<=` Less than: returns True if left side is less than or equal to the right side"
      ]
    },
    {
      "cell_type": "code",
      "metadata": {
        "colab": {
          "base_uri": "https://localhost:8080/"
        },
        "id": "NhSnhf6OzNT4",
        "outputId": "d8cdeec0-e514-47f0-bf64-ae0fd9d3464e"
      },
      "source": [
        "a = 5\n",
        "b = 3\n",
        "\n",
        "c = a == b\n",
        "d = a != b\n",
        "e = a > b\n",
        "f = a < b\n",
        "g = a >= b\n",
        "h = a <= b\n",
        "\n",
        "print('a is', a, 'and b is', b)\n",
        "print('a == b is', c)\n",
        "print('a != b is', d)\n",
        "print('a > b is', e)\n",
        "print('a < b is', f)\n",
        "print('a >= b is', g)\n",
        "print('a <= b is', h)"
      ],
      "execution_count": null,
      "outputs": [
        {
          "output_type": "stream",
          "name": "stdout",
          "text": [
            "a is 5 and b is 3\n",
            "a == b is False\n",
            "a != b is True\n",
            "a > b is True\n",
            "a < b is False\n",
            "a >= b is True\n",
            "a <= b is False\n"
          ]
        }
      ]
    },
    {
      "cell_type": "markdown",
      "metadata": {
        "id": "CJdpjPg9t5EV"
      },
      "source": [
        "### Logical Operators \n",
        "\n",
        "* `and` logical AND: returns True when both operatnds are True \n",
        "* `or` logical OR: returns True if at least one of the operands is True\n",
        "* `not` logical NOT: returns True if operand is False"
      ]
    },
    {
      "cell_type": "code",
      "metadata": {
        "colab": {
          "base_uri": "https://localhost:8080/"
        },
        "id": "dQU6gTttz4_H",
        "outputId": "7a81bc59-d883-45ef-8d3a-280939819abd"
      },
      "source": [
        "x = 5\n",
        "print(x > 3 and x < 10)"
      ],
      "execution_count": null,
      "outputs": [
        {
          "output_type": "stream",
          "name": "stdout",
          "text": [
            "True\n"
          ]
        }
      ]
    },
    {
      "cell_type": "code",
      "metadata": {
        "colab": {
          "base_uri": "https://localhost:8080/"
        },
        "id": "tGYX5ElRz9FG",
        "outputId": "d639dda4-b31c-4ba8-ece1-b3e26f87184b"
      },
      "source": [
        "x = 15\n",
        "print(x > 3 and x < 10)"
      ],
      "execution_count": null,
      "outputs": [
        {
          "output_type": "stream",
          "name": "stdout",
          "text": [
            "False\n"
          ]
        }
      ]
    },
    {
      "cell_type": "code",
      "metadata": {
        "colab": {
          "base_uri": "https://localhost:8080/"
        },
        "id": "UMg59S0B0IG2",
        "outputId": "84c38f03-e69c-4fa0-f214-f9e50d9d74ef"
      },
      "source": [
        "x = 5\n",
        "print(x > 3 or x < 4)"
      ],
      "execution_count": null,
      "outputs": [
        {
          "output_type": "stream",
          "name": "stdout",
          "text": [
            "True\n"
          ]
        }
      ]
    },
    {
      "cell_type": "code",
      "metadata": {
        "colab": {
          "base_uri": "https://localhost:8080/"
        },
        "id": "ZGQZE8z00Mm4",
        "outputId": "e4e890f3-2cf5-4f25-b9e9-df6115a340d2"
      },
      "source": [
        "x = 5\n",
        "print(x < 2 or x > 6)"
      ],
      "execution_count": null,
      "outputs": [
        {
          "output_type": "stream",
          "name": "stdout",
          "text": [
            "False\n"
          ]
        }
      ]
    },
    {
      "cell_type": "markdown",
      "metadata": {
        "id": "v2Dh2avEwM7-"
      },
      "source": [
        "### Membership Operators / Identity Operators \n",
        "\n",
        "* `in`: return True if an object is in another object\n",
        "* `not in`: return True if an object is not in another object\n",
        "\n",
        "* `is`: tells if two objects are identical\n",
        "* `is not`: tells if two objects are not identical\n",
        "\n",
        "**Note** that `is` returns False if it is not the same object, even if they have the same content \n"
      ]
    },
    {
      "cell_type": "code",
      "metadata": {
        "colab": {
          "base_uri": "https://localhost:8080/"
        },
        "id": "SQgs4iWp08ff",
        "outputId": "0dd0234f-c782-4a54-bc28-8ceec4aad630"
      },
      "source": [
        "x = ['apple', 'banana']\n",
        "print('apple' in x)\n",
        "print('pear' in x)"
      ],
      "execution_count": null,
      "outputs": [
        {
          "output_type": "stream",
          "name": "stdout",
          "text": [
            "True\n",
            "False\n"
          ]
        }
      ]
    },
    {
      "cell_type": "code",
      "metadata": {
        "colab": {
          "base_uri": "https://localhost:8080/"
        },
        "id": "c53am3VZ0Y3D",
        "outputId": "caf7e2c8-7347-494b-e751-fc5a93b6c1fe"
      },
      "source": [
        "a, b = 5, 5\n",
        "print(id(a), id(b))\n",
        "print(a is b)\n",
        "\n",
        "a, b = 56, 92\n",
        "print(a is b)\n",
        "\n",
        "x = 1000\n",
        "print(x, id(x))\n",
        "y = 1001\n",
        "print(y, id(y))\n",
        "y = y-1\n",
        "print(y, id(y))\n",
        "print(x is y)\n",
        "print(x == y)"
      ],
      "execution_count": null,
      "outputs": [
        {
          "output_type": "stream",
          "name": "stdout",
          "text": [
            "94172108421760 94172108421760\n",
            "True\n",
            "False\n",
            "1000 139847223650768\n",
            "1001 139847223651728\n",
            "1000 139847223651184\n",
            "False\n",
            "True\n"
          ]
        }
      ]
    },
    {
      "cell_type": "markdown",
      "metadata": {
        "id": "WzwrNVJvxSBw"
      },
      "source": [
        "### More Assignment Operators \n",
        "\n",
        "* `+=`: adding values and assigning it: `a+=b` instead of `a=a+b`\n",
        "* Similarly, we can use `-=`, `*=`, `/=`, `%=`, `//=`, `**=`, ... "
      ]
    },
    {
      "cell_type": "code",
      "metadata": {
        "colab": {
          "base_uri": "https://localhost:8080/"
        },
        "id": "jBL13D4N0Gd0",
        "outputId": "29a17e21-baea-4a8a-83f7-b32ec9eb4516"
      },
      "source": [
        "x = 5\n",
        "print('x is', x)\n",
        "\n",
        "x += 3\n",
        "print('x += 3 is', x)\n",
        "\n",
        "x -= 2\n",
        "print('x += 2 is', x)\n",
        "\n",
        "x *= 1.5\n",
        "print('x *= 1.5 is', x)\n",
        "\n",
        "x /= 1.25\n",
        "print('x /= 1.25 is', x)\n",
        "\n",
        "x //= 3\n",
        "print('x //= 3 is', x)\n",
        "\n",
        "x **= 4\n",
        "print('x **= 4 is', x)"
      ],
      "execution_count": null,
      "outputs": [
        {
          "output_type": "stream",
          "name": "stdout",
          "text": [
            "x is 5\n",
            "x += 3 is 8\n",
            "x += 2 is 6\n",
            "x *= 1.5 is 9.0\n",
            "x /= 1.25 is 7.2\n",
            "x //= 3 is 2.0\n",
            "x **= 4 is 16.0\n"
          ]
        }
      ]
    },
    {
      "cell_type": "markdown",
      "metadata": {
        "id": "ksarjLiG2VHy"
      },
      "source": [
        "## Exercises - Python Operators\n",
        "\n",
        "Let's check out some exercises that will help you understand **operators in Python** better."
      ]
    },
    {
      "cell_type": "markdown",
      "metadata": {
        "id": "vlvMQsEe24Da"
      },
      "source": [
        "### E-1\n",
        "\n",
        "Multiply 10 with 5 and assign it to a variable `a`, and print the result.\n",
        "\n",
        "Divide 10 by 2 and assign it to a variable `b`, and print the result."
      ]
    },
    {
      "cell_type": "code",
      "metadata": {
        "colab": {
          "base_uri": "https://localhost:8080/"
        },
        "id": "RB7tXiXn1S_k",
        "outputId": "007b0032-6a11-428c-d5a4-07e855581493"
      },
      "source": [
        "# multiply 10 with 5\n",
        "a = 10*5\n",
        "print(a)\n",
        "\n",
        "# divide 10 by 2 \n",
        "b=10/2\n",
        "print(b)"
      ],
      "execution_count": 7,
      "outputs": [
        {
          "output_type": "stream",
          "name": "stdout",
          "text": [
            "50\n",
            "5.0\n"
          ]
        }
      ]
    },
    {
      "cell_type": "markdown",
      "metadata": {
        "id": "JW_EObru3TIk"
      },
      "source": [
        "### E-2\n",
        "\n",
        "Use the correct membership operator to check 1) if `'apple'` is present in the `fruits` object, 2) if `'milk'` is present in the `fruits`"
      ]
    },
    {
      "cell_type": "code",
      "metadata": {
        "colab": {
          "base_uri": "https://localhost:8080/"
        },
        "id": "qoyYU8-i3Mo-",
        "outputId": "d382e85f-855b-47d0-ddd2-c5ee199e9cbe"
      },
      "source": [
        "fruits = ['apple', 'banana', 'melon']\n",
        "\n",
        "# check if 'apple' is present in the `fruits` object\n",
        "a = 'apple' in fruits\n",
        "print('apple is a fruit:', a)\n",
        "\n",
        "# check if 'milk' is present in the `fruits` object\n",
        "b = 'milk' in fruits\n",
        "print('milk is a fruit:', b)"
      ],
      "execution_count": 9,
      "outputs": [
        {
          "output_type": "stream",
          "name": "stdout",
          "text": [
            "apple is a fruit: True\n",
            "milk is a fruit: False\n"
          ]
        }
      ]
    },
    {
      "cell_type": "markdown",
      "metadata": {
        "id": "EM8YiQnz38xU"
      },
      "source": [
        "### E-3\n",
        "\n",
        "Use the comparison operator to check if `5` is **not equal** to 21"
      ]
    },
    {
      "cell_type": "code",
      "metadata": {
        "colab": {
          "base_uri": "https://localhost:8080/"
        },
        "id": "nRqWNzCj3qc5",
        "outputId": "963741fd-cd35-4302-89d3-bc258df54b29"
      },
      "source": [
        "# check if 5 is not equal to 21\n",
        "print('5 and 21 is not equal:', 5 != 21)"
      ],
      "execution_count": 10,
      "outputs": [
        {
          "output_type": "stream",
          "name": "stdout",
          "text": [
            "5 and 21 is not equal: True\n"
          ]
        }
      ]
    },
    {
      "cell_type": "markdown",
      "metadata": {
        "id": "c2W5kbIf5Bmw"
      },
      "source": [
        "### E-4\n",
        "\n",
        "Check if `x` is a four digit (네자리수) even (짝수) number.\n",
        "\n"
      ]
    },
    {
      "cell_type": "code",
      "metadata": {
        "colab": {
          "base_uri": "https://localhost:8080/"
        },
        "id": "uLgPHhjI5Z1p",
        "outputId": "56f70583-500e-4ab5-eb29-52cc0648185c"
      },
      "source": [
        "x = 25\n",
        "\n",
        "# check_1: check if x is a \bfour digit number\n",
        "check_1 = (x >= 1000) and (x <= 9999)\n",
        "\n",
        "# check_2: check if x is an even number\n",
        "check_2 = (x % 2) == 0\n",
        "\n",
        "# check: check if x is a four-digit even number\n",
        "check = check_1 and check_2\n",
        "\n",
        "print('x', x, 'is a four digit number:', check_1)\n",
        "print('x', x, 'is an even number:', check_2)\n",
        "print('x', x, 'is a four digit even number:', check)"
      ],
      "execution_count": 12,
      "outputs": [
        {
          "output_type": "stream",
          "name": "stdout",
          "text": [
            "x 25 is a four digit number: False\n",
            "x 25 is an even number: False\n",
            "x 25 is a four digit even number: False\n"
          ]
        }
      ]
    }
  ]
}